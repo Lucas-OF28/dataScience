{
 "cells": [
  {
   "cell_type": "markdown",
   "id": "865eeb23-5d23-4cef-9475-226ac539d5cb",
   "metadata": {},
   "source": [
    "# Projeto de Machine Learning de Classificação\n",
    "## O projeto consiste em desenvolver o modelo de Machine Learning de Classificação com os melhores scores possíveis\n",
    "### Grupo: Cristoferson, Jean, João Pedro, Lucas, Natalie"
   ]
  },
  {
   "cell_type": "code",
   "execution_count": 72,
   "id": "18a5a98a-6df7-4fbc-b485-4a52adb18596",
   "metadata": {},
   "outputs": [],
   "source": [
    "import pandas as pd\n",
    "import numpy as np"
   ]
  },
  {
   "cell_type": "code",
   "execution_count": 73,
   "id": "ea638951-b74b-4e5d-9c1f-54f28dc8e549",
   "metadata": {},
   "outputs": [
    {
     "data": {
      "text/html": [
       "<div>\n",
       "<style scoped>\n",
       "    .dataframe tbody tr th:only-of-type {\n",
       "        vertical-align: middle;\n",
       "    }\n",
       "\n",
       "    .dataframe tbody tr th {\n",
       "        vertical-align: top;\n",
       "    }\n",
       "\n",
       "    .dataframe thead th {\n",
       "        text-align: right;\n",
       "    }\n",
       "</style>\n",
       "<table border=\"1\" class=\"dataframe\">\n",
       "  <thead>\n",
       "    <tr style=\"text-align: right;\">\n",
       "      <th></th>\n",
       "      <th>upper_age</th>\n",
       "      <th>lower_age</th>\n",
       "      <th>reco_policy_premium</th>\n",
       "      <th>city_code</th>\n",
       "      <th>accomodation_type</th>\n",
       "      <th>reco_insurance_type</th>\n",
       "      <th>is_spouse</th>\n",
       "      <th>health_indicator</th>\n",
       "      <th>holding_policy_duration</th>\n",
       "      <th>holding_policy_type</th>\n",
       "      <th>used_plan</th>\n",
       "    </tr>\n",
       "  </thead>\n",
       "  <tbody>\n",
       "    <tr>\n",
       "      <th>0</th>\n",
       "      <td>52</td>\n",
       "      <td>52</td>\n",
       "      <td>16200.0</td>\n",
       "      <td>C2</td>\n",
       "      <td>Owned</td>\n",
       "      <td>Individual</td>\n",
       "      <td>No</td>\n",
       "      <td>X4</td>\n",
       "      <td>6.0</td>\n",
       "      <td>4.0</td>\n",
       "      <td>0</td>\n",
       "    </tr>\n",
       "    <tr>\n",
       "      <th>1</th>\n",
       "      <td>67</td>\n",
       "      <td>67</td>\n",
       "      <td>16900.0</td>\n",
       "      <td>C17</td>\n",
       "      <td>Rented</td>\n",
       "      <td>Individual</td>\n",
       "      <td>No</td>\n",
       "      <td>X1</td>\n",
       "      <td>7.0</td>\n",
       "      <td>3.0</td>\n",
       "      <td>1</td>\n",
       "    </tr>\n",
       "    <tr>\n",
       "      <th>2</th>\n",
       "      <td>75</td>\n",
       "      <td>75</td>\n",
       "      <td>25668.0</td>\n",
       "      <td>C10</td>\n",
       "      <td>Owned</td>\n",
       "      <td>Individual</td>\n",
       "      <td>No</td>\n",
       "      <td>X3</td>\n",
       "      <td>3.0</td>\n",
       "      <td>1.0</td>\n",
       "      <td>0</td>\n",
       "    </tr>\n",
       "    <tr>\n",
       "      <th>3</th>\n",
       "      <td>60</td>\n",
       "      <td>57</td>\n",
       "      <td>17586.8</td>\n",
       "      <td>C26</td>\n",
       "      <td>Owned</td>\n",
       "      <td>Joint</td>\n",
       "      <td>Yes</td>\n",
       "      <td>X1</td>\n",
       "      <td>14+</td>\n",
       "      <td>1.0</td>\n",
       "      <td>0</td>\n",
       "    </tr>\n",
       "    <tr>\n",
       "      <th>4</th>\n",
       "      <td>35</td>\n",
       "      <td>35</td>\n",
       "      <td>12762.0</td>\n",
       "      <td>C12</td>\n",
       "      <td>Rented</td>\n",
       "      <td>Individual</td>\n",
       "      <td>No</td>\n",
       "      <td>X1</td>\n",
       "      <td>3.0</td>\n",
       "      <td>2.0</td>\n",
       "      <td>0</td>\n",
       "    </tr>\n",
       "    <tr>\n",
       "      <th>...</th>\n",
       "      <td>...</td>\n",
       "      <td>...</td>\n",
       "      <td>...</td>\n",
       "      <td>...</td>\n",
       "      <td>...</td>\n",
       "      <td>...</td>\n",
       "      <td>...</td>\n",
       "      <td>...</td>\n",
       "      <td>...</td>\n",
       "      <td>...</td>\n",
       "      <td>...</td>\n",
       "    </tr>\n",
       "    <tr>\n",
       "      <th>23543</th>\n",
       "      <td>50</td>\n",
       "      <td>50</td>\n",
       "      <td>10908.0</td>\n",
       "      <td>C2</td>\n",
       "      <td>Owned</td>\n",
       "      <td>Individual</td>\n",
       "      <td>No</td>\n",
       "      <td>X1</td>\n",
       "      <td>5.0</td>\n",
       "      <td>3.0</td>\n",
       "      <td>0</td>\n",
       "    </tr>\n",
       "    <tr>\n",
       "      <th>23544</th>\n",
       "      <td>64</td>\n",
       "      <td>63</td>\n",
       "      <td>29856.0</td>\n",
       "      <td>C2</td>\n",
       "      <td>Owned</td>\n",
       "      <td>Joint</td>\n",
       "      <td>Yes</td>\n",
       "      <td>X1</td>\n",
       "      <td>12.0</td>\n",
       "      <td>4.0</td>\n",
       "      <td>0</td>\n",
       "    </tr>\n",
       "    <tr>\n",
       "      <th>23545</th>\n",
       "      <td>75</td>\n",
       "      <td>75</td>\n",
       "      <td>23028.0</td>\n",
       "      <td>C7</td>\n",
       "      <td>Owned</td>\n",
       "      <td>Individual</td>\n",
       "      <td>No</td>\n",
       "      <td>X1</td>\n",
       "      <td>12.0</td>\n",
       "      <td>2.0</td>\n",
       "      <td>0</td>\n",
       "    </tr>\n",
       "    <tr>\n",
       "      <th>23546</th>\n",
       "      <td>38</td>\n",
       "      <td>35</td>\n",
       "      <td>11769.6</td>\n",
       "      <td>C13</td>\n",
       "      <td>Owned</td>\n",
       "      <td>Joint</td>\n",
       "      <td>Yes</td>\n",
       "      <td>X4</td>\n",
       "      <td>5.0</td>\n",
       "      <td>2.0</td>\n",
       "      <td>0</td>\n",
       "    </tr>\n",
       "    <tr>\n",
       "      <th>23547</th>\n",
       "      <td>29</td>\n",
       "      <td>29</td>\n",
       "      <td>6290.0</td>\n",
       "      <td>C23</td>\n",
       "      <td>Rented</td>\n",
       "      <td>Individual</td>\n",
       "      <td>No</td>\n",
       "      <td>X4</td>\n",
       "      <td>9.0</td>\n",
       "      <td>3.0</td>\n",
       "      <td>1</td>\n",
       "    </tr>\n",
       "  </tbody>\n",
       "</table>\n",
       "<p>23548 rows × 11 columns</p>\n",
       "</div>"
      ],
      "text/plain": [
       "       upper_age  lower_age  reco_policy_premium city_code accomodation_type  \\\n",
       "0             52         52              16200.0        C2             Owned   \n",
       "1             67         67              16900.0       C17            Rented   \n",
       "2             75         75              25668.0       C10             Owned   \n",
       "3             60         57              17586.8       C26             Owned   \n",
       "4             35         35              12762.0       C12            Rented   \n",
       "...          ...        ...                  ...       ...               ...   \n",
       "23543         50         50              10908.0        C2             Owned   \n",
       "23544         64         63              29856.0        C2             Owned   \n",
       "23545         75         75              23028.0        C7             Owned   \n",
       "23546         38         35              11769.6       C13             Owned   \n",
       "23547         29         29               6290.0       C23            Rented   \n",
       "\n",
       "      reco_insurance_type is_spouse health_indicator holding_policy_duration  \\\n",
       "0              Individual        No               X4                     6.0   \n",
       "1              Individual        No               X1                     7.0   \n",
       "2              Individual        No               X3                     3.0   \n",
       "3                   Joint       Yes               X1                     14+   \n",
       "4              Individual        No               X1                     3.0   \n",
       "...                   ...       ...              ...                     ...   \n",
       "23543          Individual        No               X1                     5.0   \n",
       "23544               Joint       Yes               X1                    12.0   \n",
       "23545          Individual        No               X1                    12.0   \n",
       "23546               Joint       Yes               X4                     5.0   \n",
       "23547          Individual        No               X4                     9.0   \n",
       "\n",
       "       holding_policy_type  used_plan  \n",
       "0                      4.0          0  \n",
       "1                      3.0          1  \n",
       "2                      1.0          0  \n",
       "3                      1.0          0  \n",
       "4                      2.0          0  \n",
       "...                    ...        ...  \n",
       "23543                  3.0          0  \n",
       "23544                  4.0          0  \n",
       "23545                  2.0          0  \n",
       "23546                  2.0          0  \n",
       "23547                  3.0          1  \n",
       "\n",
       "[23548 rows x 11 columns]"
      ]
     },
     "execution_count": 73,
     "metadata": {},
     "output_type": "execute_result"
    }
   ],
   "source": [
    "df = pd.read_pickle('data_insurance.pkl')\n",
    "df"
   ]
  },
  {
   "cell_type": "code",
   "execution_count": 74,
   "id": "2cab7d1b-741d-4c3d-abaa-d38205ecaf59",
   "metadata": {},
   "outputs": [
    {
     "data": {
      "text/plain": [
       "0    17848\n",
       "1     5700\n",
       "Name: used_plan, dtype: int64"
      ]
     },
     "execution_count": 74,
     "metadata": {},
     "output_type": "execute_result"
    }
   ],
   "source": [
    "df.used_plan.value_counts()"
   ]
  },
  {
   "cell_type": "code",
   "execution_count": 75,
   "id": "6221db3b-22e9-4ccd-9247-14500733ea34",
   "metadata": {},
   "outputs": [
    {
     "name": "stdout",
     "output_type": "stream",
     "text": [
      "<class 'pandas.core.frame.DataFrame'>\n",
      "RangeIndex: 23548 entries, 0 to 23547\n",
      "Data columns (total 11 columns):\n",
      " #   Column                   Non-Null Count  Dtype  \n",
      "---  ------                   --------------  -----  \n",
      " 0   upper_age                23548 non-null  int64  \n",
      " 1   lower_age                23548 non-null  int64  \n",
      " 2   reco_policy_premium      23548 non-null  float64\n",
      " 3   city_code                23548 non-null  object \n",
      " 4   accomodation_type        23548 non-null  object \n",
      " 5   reco_insurance_type      23548 non-null  object \n",
      " 6   is_spouse                23548 non-null  object \n",
      " 7   health_indicator         23548 non-null  object \n",
      " 8   holding_policy_duration  23548 non-null  object \n",
      " 9   holding_policy_type      23548 non-null  float64\n",
      " 10  used_plan                23548 non-null  int64  \n",
      "dtypes: float64(2), int64(3), object(6)\n",
      "memory usage: 2.0+ MB\n"
     ]
    }
   ],
   "source": [
    "df.info()"
   ]
  },
  {
   "cell_type": "code",
   "execution_count": 146,
   "id": "11c23388-65b5-4045-a4dd-2208866b2e96",
   "metadata": {},
   "outputs": [
    {
     "data": {
      "text/html": [
       "<div>\n",
       "<style scoped>\n",
       "    .dataframe tbody tr th:only-of-type {\n",
       "        vertical-align: middle;\n",
       "    }\n",
       "\n",
       "    .dataframe tbody tr th {\n",
       "        vertical-align: top;\n",
       "    }\n",
       "\n",
       "    .dataframe thead th {\n",
       "        text-align: right;\n",
       "    }\n",
       "</style>\n",
       "<table border=\"1\" class=\"dataframe\">\n",
       "  <thead>\n",
       "    <tr style=\"text-align: right;\">\n",
       "      <th></th>\n",
       "      <th>upper_age</th>\n",
       "      <th>lower_age</th>\n",
       "      <th>reco_policy_premium</th>\n",
       "      <th>city_code</th>\n",
       "      <th>accomodation_type</th>\n",
       "      <th>reco_insurance_type</th>\n",
       "      <th>is_spouse</th>\n",
       "      <th>health_indicator</th>\n",
       "      <th>holding_policy_duration</th>\n",
       "      <th>holding_policy_type</th>\n",
       "      <th>used_plan</th>\n",
       "    </tr>\n",
       "  </thead>\n",
       "  <tbody>\n",
       "    <tr>\n",
       "      <th>6881</th>\n",
       "      <td>40</td>\n",
       "      <td>40</td>\n",
       "      <td>11616.0</td>\n",
       "      <td>3.0</td>\n",
       "      <td>1</td>\n",
       "      <td>1</td>\n",
       "      <td>1</td>\n",
       "      <td>1</td>\n",
       "      <td>2.0</td>\n",
       "      <td>1.0</td>\n",
       "      <td>0</td>\n",
       "    </tr>\n",
       "    <tr>\n",
       "      <th>10901</th>\n",
       "      <td>41</td>\n",
       "      <td>41</td>\n",
       "      <td>10864.0</td>\n",
       "      <td>2.0</td>\n",
       "      <td>1</td>\n",
       "      <td>1</td>\n",
       "      <td>1</td>\n",
       "      <td>1</td>\n",
       "      <td>7.0</td>\n",
       "      <td>4.0</td>\n",
       "      <td>0</td>\n",
       "    </tr>\n",
       "    <tr>\n",
       "      <th>14787</th>\n",
       "      <td>65</td>\n",
       "      <td>65</td>\n",
       "      <td>18088.0</td>\n",
       "      <td>1.0</td>\n",
       "      <td>1</td>\n",
       "      <td>1</td>\n",
       "      <td>1</td>\n",
       "      <td>2</td>\n",
       "      <td>4.0</td>\n",
       "      <td>4.0</td>\n",
       "      <td>1</td>\n",
       "    </tr>\n",
       "    <tr>\n",
       "      <th>5118</th>\n",
       "      <td>46</td>\n",
       "      <td>46</td>\n",
       "      <td>13620.0</td>\n",
       "      <td>2.0</td>\n",
       "      <td>2</td>\n",
       "      <td>1</td>\n",
       "      <td>1</td>\n",
       "      <td>2</td>\n",
       "      <td>3.0</td>\n",
       "      <td>1.0</td>\n",
       "      <td>0</td>\n",
       "    </tr>\n",
       "    <tr>\n",
       "      <th>23386</th>\n",
       "      <td>62</td>\n",
       "      <td>56</td>\n",
       "      <td>20081.6</td>\n",
       "      <td>1.0</td>\n",
       "      <td>1</td>\n",
       "      <td>2</td>\n",
       "      <td>2</td>\n",
       "      <td>2</td>\n",
       "      <td>8.0</td>\n",
       "      <td>1.0</td>\n",
       "      <td>1</td>\n",
       "    </tr>\n",
       "    <tr>\n",
       "      <th>...</th>\n",
       "      <td>...</td>\n",
       "      <td>...</td>\n",
       "      <td>...</td>\n",
       "      <td>...</td>\n",
       "      <td>...</td>\n",
       "      <td>...</td>\n",
       "      <td>...</td>\n",
       "      <td>...</td>\n",
       "      <td>...</td>\n",
       "      <td>...</td>\n",
       "      <td>...</td>\n",
       "    </tr>\n",
       "    <tr>\n",
       "      <th>21256</th>\n",
       "      <td>61</td>\n",
       "      <td>61</td>\n",
       "      <td>14190.0</td>\n",
       "      <td>2.0</td>\n",
       "      <td>2</td>\n",
       "      <td>1</td>\n",
       "      <td>1</td>\n",
       "      <td>2</td>\n",
       "      <td>14</td>\n",
       "      <td>4.0</td>\n",
       "      <td>0</td>\n",
       "    </tr>\n",
       "    <tr>\n",
       "      <th>11815</th>\n",
       "      <td>24</td>\n",
       "      <td>24</td>\n",
       "      <td>5768.0</td>\n",
       "      <td>2.0</td>\n",
       "      <td>2</td>\n",
       "      <td>1</td>\n",
       "      <td>1</td>\n",
       "      <td>3</td>\n",
       "      <td>2.0</td>\n",
       "      <td>3.0</td>\n",
       "      <td>0</td>\n",
       "    </tr>\n",
       "    <tr>\n",
       "      <th>15378</th>\n",
       "      <td>60</td>\n",
       "      <td>60</td>\n",
       "      <td>15932.0</td>\n",
       "      <td>1.0</td>\n",
       "      <td>1</td>\n",
       "      <td>1</td>\n",
       "      <td>1</td>\n",
       "      <td>3</td>\n",
       "      <td>5.0</td>\n",
       "      <td>1.0</td>\n",
       "      <td>0</td>\n",
       "    </tr>\n",
       "    <tr>\n",
       "      <th>21620</th>\n",
       "      <td>62</td>\n",
       "      <td>62</td>\n",
       "      <td>18180.0</td>\n",
       "      <td>3.0</td>\n",
       "      <td>1</td>\n",
       "      <td>1</td>\n",
       "      <td>1</td>\n",
       "      <td>2</td>\n",
       "      <td>5.0</td>\n",
       "      <td>4.0</td>\n",
       "      <td>1</td>\n",
       "    </tr>\n",
       "    <tr>\n",
       "      <th>20264</th>\n",
       "      <td>42</td>\n",
       "      <td>42</td>\n",
       "      <td>13640.0</td>\n",
       "      <td>2.0</td>\n",
       "      <td>1</td>\n",
       "      <td>1</td>\n",
       "      <td>1</td>\n",
       "      <td>2</td>\n",
       "      <td>5.0</td>\n",
       "      <td>4.0</td>\n",
       "      <td>0</td>\n",
       "    </tr>\n",
       "  </tbody>\n",
       "</table>\n",
       "<p>104 rows × 11 columns</p>\n",
       "</div>"
      ],
      "text/plain": [
       "       upper_age  lower_age  reco_policy_premium  city_code  \\\n",
       "6881          40         40              11616.0        3.0   \n",
       "10901         41         41              10864.0        2.0   \n",
       "14787         65         65              18088.0        1.0   \n",
       "5118          46         46              13620.0        2.0   \n",
       "23386         62         56              20081.6        1.0   \n",
       "...          ...        ...                  ...        ...   \n",
       "21256         61         61              14190.0        2.0   \n",
       "11815         24         24               5768.0        2.0   \n",
       "15378         60         60              15932.0        1.0   \n",
       "21620         62         62              18180.0        3.0   \n",
       "20264         42         42              13640.0        2.0   \n",
       "\n",
       "       accomodation_type  reco_insurance_type  is_spouse  health_indicator  \\\n",
       "6881                   1                    1          1                 1   \n",
       "10901                  1                    1          1                 1   \n",
       "14787                  1                    1          1                 2   \n",
       "5118                   2                    1          1                 2   \n",
       "23386                  1                    2          2                 2   \n",
       "...                  ...                  ...        ...               ...   \n",
       "21256                  2                    1          1                 2   \n",
       "11815                  2                    1          1                 3   \n",
       "15378                  1                    1          1                 3   \n",
       "21620                  1                    1          1                 2   \n",
       "20264                  1                    1          1                 2   \n",
       "\n",
       "      holding_policy_duration  holding_policy_type  used_plan  \n",
       "6881                      2.0                  1.0          0  \n",
       "10901                     7.0                  4.0          0  \n",
       "14787                     4.0                  4.0          1  \n",
       "5118                      3.0                  1.0          0  \n",
       "23386                     8.0                  1.0          1  \n",
       "...                       ...                  ...        ...  \n",
       "21256                      14                  4.0          0  \n",
       "11815                     2.0                  3.0          0  \n",
       "15378                     5.0                  1.0          0  \n",
       "21620                     5.0                  4.0          1  \n",
       "20264                     5.0                  4.0          0  \n",
       "\n",
       "[104 rows x 11 columns]"
      ]
     },
     "execution_count": 146,
     "metadata": {},
     "output_type": "execute_result"
    }
   ],
   "source": [
    "dados_posteriores = df.sample(frac=.01)\n",
    "dados_posteriores"
   ]
  },
  {
   "cell_type": "markdown",
   "id": "49d9ca5e-473f-45e3-91f0-9b7597b6233a",
   "metadata": {
    "tags": []
   },
   "source": [
    "### Convertendo a coluna city_code para números"
   ]
  },
  {
   "cell_type": "code",
   "execution_count": 76,
   "id": "d28a4fe0-cdb5-4ea9-9c16-7f4145e553c1",
   "metadata": {},
   "outputs": [
    {
     "name": "stdout",
     "output_type": "stream",
     "text": [
      "   upper_age  lower_age  reco_policy_premium  city_code accomodation_type  \\\n",
      "0         52         52              16200.0        2.0             Owned   \n",
      "1         67         67              16900.0        NaN            Rented   \n",
      "2         75         75              25668.0        NaN             Owned   \n",
      "3         60         57              17586.8        NaN             Owned   \n",
      "4         35         35              12762.0        NaN            Rented   \n",
      "\n",
      "  reco_insurance_type is_spouse health_indicator holding_policy_duration  \\\n",
      "0          Individual        No               X4                     6.0   \n",
      "1          Individual        No               X1                     7.0   \n",
      "2          Individual        No               X3                     3.0   \n",
      "3               Joint       Yes               X1                     14+   \n",
      "4          Individual        No               X1                     3.0   \n",
      "\n",
      "   holding_policy_type  used_plan  \n",
      "0                  4.0          0  \n",
      "1                  3.0          1  \n",
      "2                  1.0          0  \n",
      "3                  1.0          0  \n",
      "4                  2.0          0  \n"
     ]
    }
   ],
   "source": [
    "city_code_order = ['C1', 'C2', 'C3', ...]\n",
    "city_code_mapping = {code: i+1 for i, code in enumerate(city_code_order)}\n",
    "df['city_code'] = df['city_code'].map(city_code_mapping)\n",
    "\n",
    "print(df.head())"
   ]
  },
  {
   "cell_type": "markdown",
   "id": "e42345c1-541f-4c52-a9f3-6523be216b30",
   "metadata": {
    "jp-MarkdownHeadingCollapsed": true,
    "tags": []
   },
   "source": [
    "### Convertendo a coluna reco_insurance_type para números"
   ]
  },
  {
   "cell_type": "code",
   "execution_count": 77,
   "id": "250874ce-8b54-48c6-8905-6126e76ec2e3",
   "metadata": {},
   "outputs": [
    {
     "name": "stdout",
     "output_type": "stream",
     "text": [
      "   upper_age  lower_age  reco_policy_premium  city_code accomodation_type  \\\n",
      "0         52         52              16200.0        2.0             Owned   \n",
      "1         67         67              16900.0        NaN            Rented   \n",
      "2         75         75              25668.0        NaN             Owned   \n",
      "3         60         57              17586.8        NaN             Owned   \n",
      "4         35         35              12762.0        NaN            Rented   \n",
      "\n",
      "   reco_insurance_type is_spouse health_indicator holding_policy_duration  \\\n",
      "0                    1        No               X4                     6.0   \n",
      "1                    1        No               X1                     7.0   \n",
      "2                    1        No               X3                     3.0   \n",
      "3                    2       Yes               X1                     14+   \n",
      "4                    1        No               X1                     3.0   \n",
      "\n",
      "   holding_policy_type  used_plan  \n",
      "0                  4.0          0  \n",
      "1                  3.0          1  \n",
      "2                  1.0          0  \n",
      "3                  1.0          0  \n",
      "4                  2.0          0  \n"
     ]
    }
   ],
   "source": [
    "reco_insurance_type_order = ['Individual', 'Joint']\n",
    "reco_insurance_type_mapping = {type: i+1 for i, type in enumerate(reco_insurance_type_order)}\n",
    "df['reco_insurance_type'] = df['reco_insurance_type'].map(reco_insurance_type_mapping)\n",
    "\n",
    "print(df.head())"
   ]
  },
  {
   "cell_type": "markdown",
   "id": "4aa1c7d6-fec9-47fa-bd5e-2805c1342e99",
   "metadata": {
    "jp-MarkdownHeadingCollapsed": true,
    "tags": []
   },
   "source": [
    "### Convertendo a coluna accomodation_type para números"
   ]
  },
  {
   "cell_type": "code",
   "execution_count": 78,
   "id": "f45fc522-6fbd-4876-982f-8b3f2c30dc33",
   "metadata": {},
   "outputs": [
    {
     "name": "stdout",
     "output_type": "stream",
     "text": [
      "   upper_age  lower_age  reco_policy_premium  city_code  accomodation_type  \\\n",
      "0         52         52              16200.0        2.0                  1   \n",
      "1         67         67              16900.0        NaN                  2   \n",
      "2         75         75              25668.0        NaN                  1   \n",
      "3         60         57              17586.8        NaN                  1   \n",
      "4         35         35              12762.0        NaN                  2   \n",
      "\n",
      "   reco_insurance_type is_spouse health_indicator holding_policy_duration  \\\n",
      "0                    1        No               X4                     6.0   \n",
      "1                    1        No               X1                     7.0   \n",
      "2                    1        No               X3                     3.0   \n",
      "3                    2       Yes               X1                     14+   \n",
      "4                    1        No               X1                     3.0   \n",
      "\n",
      "   holding_policy_type  used_plan  \n",
      "0                  4.0          0  \n",
      "1                  3.0          1  \n",
      "2                  1.0          0  \n",
      "3                  1.0          0  \n",
      "4                  2.0          0  \n"
     ]
    }
   ],
   "source": [
    "accomodation_type_order = ['Owned', 'Rented']\n",
    "accomodation_type_mapping = {type: i+1 for i, type in enumerate(accomodation_type_order)}\n",
    "df['accomodation_type'] = df['accomodation_type'].map(accomodation_type_mapping)\n",
    "\n",
    "print(df.head())"
   ]
  },
  {
   "cell_type": "markdown",
   "id": "945c8205-202e-4962-8d74-8c7d09cfb555",
   "metadata": {
    "jp-MarkdownHeadingCollapsed": true,
    "tags": []
   },
   "source": [
    "### Convertendo a coluna is_spouse para números"
   ]
  },
  {
   "cell_type": "code",
   "execution_count": 79,
   "id": "0c6b11a9-da98-40f0-a7f1-e782703883c0",
   "metadata": {},
   "outputs": [
    {
     "name": "stdout",
     "output_type": "stream",
     "text": [
      "   upper_age  lower_age  reco_policy_premium  city_code  accomodation_type  \\\n",
      "0         52         52              16200.0        2.0                  1   \n",
      "1         67         67              16900.0        NaN                  2   \n",
      "2         75         75              25668.0        NaN                  1   \n",
      "3         60         57              17586.8        NaN                  1   \n",
      "4         35         35              12762.0        NaN                  2   \n",
      "\n",
      "   reco_insurance_type  is_spouse health_indicator holding_policy_duration  \\\n",
      "0                    1          1               X4                     6.0   \n",
      "1                    1          1               X1                     7.0   \n",
      "2                    1          1               X3                     3.0   \n",
      "3                    2          2               X1                     14+   \n",
      "4                    1          1               X1                     3.0   \n",
      "\n",
      "   holding_policy_type  used_plan  \n",
      "0                  4.0          0  \n",
      "1                  3.0          1  \n",
      "2                  1.0          0  \n",
      "3                  1.0          0  \n",
      "4                  2.0          0  \n"
     ]
    }
   ],
   "source": [
    "is_spouse_order = ['No', 'Yes']\n",
    "is_spouse_mapping = {value: i+1 for i, value in enumerate(is_spouse_order)}\n",
    "df['is_spouse'] = df['is_spouse'].map(is_spouse_mapping)\n",
    "\n",
    "print(df.head())"
   ]
  },
  {
   "cell_type": "markdown",
   "id": "249296e5-6e6f-490e-b5b3-0d9b75febf43",
   "metadata": {
    "jp-MarkdownHeadingCollapsed": true,
    "tags": []
   },
   "source": [
    "### Convertendo a coluna health_indicator para números"
   ]
  },
  {
   "cell_type": "code",
   "execution_count": 80,
   "id": "1110b3e9-4f80-4164-ac54-84a9e0066a57",
   "metadata": {},
   "outputs": [
    {
     "name": "stdout",
     "output_type": "stream",
     "text": [
      "   upper_age  lower_age  reco_policy_premium  city_code  accomodation_type  \\\n",
      "0         52         52              16200.0        2.0                  1   \n",
      "1         67         67              16900.0        NaN                  2   \n",
      "2         75         75              25668.0        NaN                  1   \n",
      "3         60         57              17586.8        NaN                  1   \n",
      "4         35         35              12762.0        NaN                  2   \n",
      "\n",
      "   reco_insurance_type  is_spouse  health_indicator holding_policy_duration  \\\n",
      "0                    1          1                 4                     6.0   \n",
      "1                    1          1                 1                     7.0   \n",
      "2                    1          1                 3                     3.0   \n",
      "3                    2          2                 1                     14+   \n",
      "4                    1          1                 1                     3.0   \n",
      "\n",
      "   holding_policy_type  used_plan  \n",
      "0                  4.0          0  \n",
      "1                  3.0          1  \n",
      "2                  1.0          0  \n",
      "3                  1.0          0  \n",
      "4                  2.0          0  \n"
     ]
    }
   ],
   "source": [
    "health_indicator_order = ['X1', 'X2', 'X3', 'X4', 'X5', 'X6', 'X7', 'X8', 'X9']\n",
    "health_indicator_mapping = {indicator: i+1 for i, indicator in enumerate(health_indicator_order)}\n",
    "df['health_indicator'] = df['health_indicator'].map(health_indicator_mapping)\n",
    "\n",
    "print(df.head())"
   ]
  },
  {
   "cell_type": "markdown",
   "id": "52280a71-9965-49d2-8354-9ed6ee822ffe",
   "metadata": {
    "jp-MarkdownHeadingCollapsed": true,
    "tags": []
   },
   "source": [
    "### Substituindo \"14+\" por \"14\" na coluna \"holding_policy_duration\""
   ]
  },
  {
   "cell_type": "code",
   "execution_count": 82,
   "id": "aa976d36-13e4-4cf2-a133-9efb3f53101b",
   "metadata": {},
   "outputs": [
    {
     "name": "stdout",
     "output_type": "stream",
     "text": [
      "   upper_age  lower_age  reco_policy_premium  city_code  accomodation_type  \\\n",
      "0         52         52              16200.0        2.0                  1   \n",
      "1         67         67              16900.0        NaN                  2   \n",
      "2         75         75              25668.0        NaN                  1   \n",
      "3         60         57              17586.8        NaN                  1   \n",
      "4         35         35              12762.0        NaN                  2   \n",
      "\n",
      "   reco_insurance_type  is_spouse  health_indicator holding_policy_duration  \\\n",
      "0                    1          1                 4                     6.0   \n",
      "1                    1          1                 1                     7.0   \n",
      "2                    1          1                 3                     3.0   \n",
      "3                    2          2                 1                      14   \n",
      "4                    1          1                 1                     3.0   \n",
      "\n",
      "   holding_policy_type  used_plan  \n",
      "0                  4.0          0  \n",
      "1                  3.0          1  \n",
      "2                  1.0          0  \n",
      "3                  1.0          0  \n",
      "4                  2.0          0  \n"
     ]
    }
   ],
   "source": [
    "df['holding_policy_duration'] = df['holding_policy_duration'].replace('14+', '14')\n",
    "\n",
    "print(df.head())"
   ]
  },
  {
   "cell_type": "markdown",
   "id": "4bac1483-7b85-4e1e-9bc5-24b966ba65ee",
   "metadata": {
    "tags": []
   },
   "source": [
    "### Verificando e revomendo valores NaN na tabela"
   ]
  },
  {
   "cell_type": "code",
   "execution_count": 83,
   "id": "03ba84af-1cb8-4307-9569-35a1846261ea",
   "metadata": {},
   "outputs": [
    {
     "name": "stdout",
     "output_type": "stream",
     "text": [
      "upper_age                      0\n",
      "lower_age                      0\n",
      "reco_policy_premium            0\n",
      "city_code                  13102\n",
      "accomodation_type              0\n",
      "reco_insurance_type            0\n",
      "is_spouse                      0\n",
      "health_indicator               0\n",
      "holding_policy_duration        0\n",
      "holding_policy_type            0\n",
      "used_plan                      0\n",
      "dtype: int64\n",
      "    upper_age  lower_age  reco_policy_premium  city_code  accomodation_type  \\\n",
      "0          52         52              16200.0        2.0                  1   \n",
      "5          75         75              21964.0        2.0                  1   \n",
      "7          75         70              29083.6        1.0                  1   \n",
      "10         53         53              15704.0        1.0                  1   \n",
      "11         43         35              11781.0        1.0                  1   \n",
      "\n",
      "    reco_insurance_type  is_spouse  health_indicator holding_policy_duration  \\\n",
      "0                     1          1                 4                     6.0   \n",
      "5                     1          1                 1                      14   \n",
      "7                     2          2                 2                     5.0   \n",
      "10                    1          1                 4                      14   \n",
      "11                    2          2                 6                    10.0   \n",
      "\n",
      "    holding_policy_type  used_plan  \n",
      "0                   4.0          0  \n",
      "5                   3.0          0  \n",
      "7                   1.0          0  \n",
      "10                  3.0          0  \n",
      "11                  3.0          0  \n"
     ]
    }
   ],
   "source": [
    "print(df.isnull().sum())\n",
    "df = df.dropna()\n",
    "\n",
    "print(df.head())"
   ]
  },
  {
   "cell_type": "markdown",
   "id": "73016d34-5c1d-4e35-bacf-8c42d3b50d0a",
   "metadata": {},
   "source": [
    "xx = df.iloc[:,:10]\n",
    "yy = df.iloc[:,10]"
   ]
  },
  {
   "cell_type": "markdown",
   "id": "22c22e50-a823-4065-8941-217e3f61fc30",
   "metadata": {},
   "source": [
    "### Realizando o balançeamento"
   ]
  },
  {
   "cell_type": "code",
   "execution_count": 85,
   "id": "59ec5869-e251-4d6d-b71c-b1d8c992de60",
   "metadata": {},
   "outputs": [],
   "source": [
    "from sklearn.model_selection import train_test_split\n",
    "x_treino_original, x_teste, y_treino_original, y_teste = train_test_split(xx,yy,test_size=0.2,random_state=0)"
   ]
  },
  {
   "cell_type": "code",
   "execution_count": 86,
   "id": "b99c6614-004b-4baf-a0c8-0d8fc86899fe",
   "metadata": {},
   "outputs": [],
   "source": [
    "#para sem balanceamento: 0\n",
    "#para com balanceamento: 1\n",
    "decisao = 1\n",
    "if decisao == 0:\n",
    "    x_treino = x_treino_original\n",
    "    y_treino = y_treino_original\n",
    "elif decisao == 1:\n",
    "    from imblearn.combine import SMOTEENN\n",
    "    smt = SMOTEENN()\n",
    "    x_treino,y_treino =  smt.fit_resample(x_treino_original,y_treino_original)"
   ]
  },
  {
   "cell_type": "code",
   "execution_count": 87,
   "id": "db993163-7733-4d87-803d-ddc49b7d8e3c",
   "metadata": {},
   "outputs": [
    {
     "data": {
      "text/plain": [
       "1    2859\n",
       "0    1998\n",
       "Name: used_plan, dtype: int64"
      ]
     },
     "execution_count": 87,
     "metadata": {},
     "output_type": "execute_result"
    }
   ],
   "source": [
    "y_treino.value_counts()"
   ]
  },
  {
   "cell_type": "markdown",
   "id": "86a53642-77ca-4ce0-ba8a-3af5cefa9383",
   "metadata": {},
   "source": [
    "## Pré-treino de algoritmos de ML"
   ]
  },
  {
   "cell_type": "markdown",
   "id": "6763ba6d-3281-4509-8b4f-8d4f912dc9f3",
   "metadata": {
    "jp-MarkdownHeadingCollapsed": true,
    "tags": []
   },
   "source": [
    "### Algoritmo Random Forest"
   ]
  },
  {
   "cell_type": "code",
   "execution_count": 88,
   "id": "0c3f5137-d0ec-46a7-9e8e-ca7937bd97d9",
   "metadata": {},
   "outputs": [],
   "source": [
    "from sklearn.ensemble import RandomForestClassifier\n",
    "rf = RandomForestClassifier()\n",
    "rf.fit(x_treino,y_treino)\n",
    "rf_y_pred = rf.predict(x_teste)"
   ]
  },
  {
   "cell_type": "code",
   "execution_count": 89,
   "id": "9675623c-9bca-4684-9975-ba40d8147493",
   "metadata": {},
   "outputs": [
    {
     "name": "stdout",
     "output_type": "stream",
     "text": [
      "[0 0 0 0 0 0 0 0 1 1]\n",
      "[0 0 0 1 0 1 0 1 0 1]\n"
     ]
    }
   ],
   "source": [
    "print(y_teste[:10].values)\n",
    "print(rf_y_pred[:10])"
   ]
  },
  {
   "cell_type": "code",
   "execution_count": 90,
   "id": "e61bc486-ac9b-4279-be57-f4d1f4c55c8e",
   "metadata": {},
   "outputs": [
    {
     "name": "stdout",
     "output_type": "stream",
     "text": [
      "[0 1 0 1 0 0 1 0 0 1]\n",
      "[1 1 0 1 0 0 1 0 0 0]\n"
     ]
    }
   ],
   "source": [
    "print(y_teste[-10:].values)\n",
    "print(rf_y_pred[-10:])"
   ]
  },
  {
   "cell_type": "markdown",
   "id": "caf2d865-376b-4d2c-81ab-d80c76b698e1",
   "metadata": {
    "jp-MarkdownHeadingCollapsed": true,
    "tags": []
   },
   "source": [
    "### Algoritmo Naive Bayes"
   ]
  },
  {
   "cell_type": "code",
   "execution_count": 91,
   "id": "2e30ff6b-f6a4-4db1-8545-c0723b206d8d",
   "metadata": {},
   "outputs": [],
   "source": [
    "from sklearn.naive_bayes import GaussianNB\n",
    "nb = GaussianNB()\n",
    "nb.fit(x_treino,y_treino)\n",
    "nb_y_pred = nb.predict(x_teste)"
   ]
  },
  {
   "cell_type": "code",
   "execution_count": 92,
   "id": "d8a08ed3-969f-4c8a-94ad-2d5a849f79bc",
   "metadata": {},
   "outputs": [
    {
     "name": "stdout",
     "output_type": "stream",
     "text": [
      "[0 0 0 0 0 0 0 0 1 1]\n",
      "[0 0 1 1 1 1 1 1 1 1]\n"
     ]
    }
   ],
   "source": [
    "print(y_teste[:10].values)\n",
    "print(nb_y_pred[:10])"
   ]
  },
  {
   "cell_type": "code",
   "execution_count": 93,
   "id": "9f07b45a-324f-41d1-9fe5-06af03fa8f32",
   "metadata": {},
   "outputs": [
    {
     "name": "stdout",
     "output_type": "stream",
     "text": [
      "[0 1 0 1 0 0 1 0 0 1]\n",
      "[1 1 0 1 1 0 1 0 1 1]\n"
     ]
    }
   ],
   "source": [
    "print(y_teste[-10:].values)\n",
    "print(nb_y_pred[-10:])"
   ]
  },
  {
   "cell_type": "markdown",
   "id": "76c43fe9-5b82-422a-8b33-077c2fe941a4",
   "metadata": {
    "jp-MarkdownHeadingCollapsed": true,
    "tags": []
   },
   "source": [
    "### Algoritmo KNN"
   ]
  },
  {
   "cell_type": "code",
   "execution_count": 103,
   "id": "d85fcc0b-fb1b-48d7-b996-210f2f9a4a10",
   "metadata": {},
   "outputs": [],
   "source": [
    "from sklearn.tree import DecisionTreeClassifier\n",
    "tr = DecisionTreeClassifier()\n",
    "tr.fit(x_treino,y_treino)\n",
    "tr_y_pred = tr.predict(x_teste)"
   ]
  },
  {
   "cell_type": "code",
   "execution_count": 104,
   "id": "acf32da7-cb9d-498d-b647-ee8e9ca87a27",
   "metadata": {},
   "outputs": [
    {
     "name": "stdout",
     "output_type": "stream",
     "text": [
      "[0 0 0 0 0 0 0 0 1 1]\n",
      "[0 0 1 0 0 1 0 0 0 1]\n"
     ]
    }
   ],
   "source": [
    "print(y_teste[:10].values)\n",
    "print(tr_y_pred[:10])"
   ]
  },
  {
   "cell_type": "code",
   "execution_count": 105,
   "id": "0f5261fc-8ab3-4897-8bd9-096a2b4c8803",
   "metadata": {},
   "outputs": [
    {
     "name": "stdout",
     "output_type": "stream",
     "text": [
      "[0 1 0 1 0 0 1 0 0 1]\n",
      "[0 0 1 0 0 1 0 1 0 1]\n"
     ]
    }
   ],
   "source": [
    "print(y_teste[-10:].values)\n",
    "print(tr_y_pred[-10:])"
   ]
  },
  {
   "cell_type": "markdown",
   "id": "b3d6828c-63b1-45d0-8201-1a28f0e05ab5",
   "metadata": {},
   "source": [
    "## Métricas dos modelos de ML (Classificação)"
   ]
  },
  {
   "cell_type": "markdown",
   "id": "c1375d83-abb4-4893-9873-7dbb93b3f189",
   "metadata": {
    "tags": []
   },
   "source": [
    "### Matriz de confusão"
   ]
  },
  {
   "cell_type": "code",
   "execution_count": 97,
   "id": "6e21a059-33f9-40c6-8d80-01bfb89aca5f",
   "metadata": {},
   "outputs": [],
   "source": [
    "from sklearn.metrics import confusion_matrix\n",
    "import matplotlib.pyplot as plt"
   ]
  },
  {
   "cell_type": "markdown",
   "id": "a954438b-8f69-4a58-8f76-0961592d64f1",
   "metadata": {},
   "source": [
    "Definindo função para plotar matriz de confusão a partir de qualquer y_teste e y_pred"
   ]
  },
  {
   "cell_type": "code",
   "execution_count": 99,
   "id": "2644b127-f356-4ee5-8ba5-7646dc423ab9",
   "metadata": {},
   "outputs": [],
   "source": [
    "def matriz_confusao(y_teste,y_pred,nome):\n",
    "    cm = confusion_matrix(y_teste,y_pred)\n",
    "    plt.imshow(cm, cmap=plt.cm.Blues, interpolation='nearest')\n",
    "    plt.title('Matriz de confusão do algoritmo '+nome)\n",
    "    plt.colorbar()\n",
    "    tick_marks = [0, 1]\n",
    "    plt.xticks(tick_marks, ['Negativo', 'Positivo'])\n",
    "    plt.yticks(tick_marks, ['Negativo', 'Positivo'])\n",
    "    plt.xlabel('Previsão')\n",
    "    plt.ylabel('Valor real')\n",
    "    thresh = cm.max() / 2.\n",
    "    for i, j in ((i, j) for i in range(len(cm)) for j in range(len(cm[0]))):\n",
    "        plt.text(j, i, cm[i][j], ha='center', va='center', color='white' if cm[i][j] > thresh else 'black')\n",
    "    plt.savefig('Matriz_Confusao_Algoritmo_'+nome)\n",
    "    plt.show()\n",
    "    "
   ]
  },
  {
   "cell_type": "markdown",
   "id": "a5bab57c-a884-4e27-915d-d4eb4eb788af",
   "metadata": {
    "jp-MarkdownHeadingCollapsed": true,
    "tags": []
   },
   "source": [
    "#### Matriz de confusão Naive Bayes"
   ]
  },
  {
   "cell_type": "code",
   "execution_count": 100,
   "id": "be984068-1827-425d-b425-a38b2670a44d",
   "metadata": {},
   "outputs": [
    {
     "data": {
      "image/png": "[encoded data removed]",
      "text/plain": [
       "<Figure size 640x480 with 2 Axes>"
      ]
     },
     "metadata": {},
     "output_type": "display_data"
    }
   ],
   "source": [
    "matriz_confusao(y_teste,nb_y_pred,'Naive Bayes')"
   ]
  },
  {
   "cell_type": "markdown",
   "id": "9e19df0e-abe6-47ac-b912-9bd0f93912ce",
   "metadata": {
    "jp-MarkdownHeadingCollapsed": true,
    "tags": []
   },
   "source": [
    "#### (...) Matriz de confusão Random Forest"
   ]
  },
  {
   "cell_type": "code",
   "execution_count": 102,
   "id": "6a181871-c5af-450a-859e-ca274f7747d3",
   "metadata": {},
   "outputs": [
    {
     "data": {
      "image/png": "[encoded data removed]",
      "text/plain": [
       "<Figure size 640x480 with 2 Axes>"
      ]
     },
     "metadata": {},
     "output_type": "display_data"
    }
   ],
   "source": [
    "matriz_confusao(y_teste,rf_y_pred,'Random Forest')"
   ]
  },
  {
   "cell_type": "markdown",
   "id": "bf2885b3-cb9d-4305-9bfb-f99e03d0c921",
   "metadata": {
    "jp-MarkdownHeadingCollapsed": true,
    "tags": []
   },
   "source": [
    "#### Matriz de confusão do Decision Tree"
   ]
  },
  {
   "cell_type": "code",
   "execution_count": 106,
   "id": "728595a7-9d3f-4516-a40c-2f0b05ac7d03",
   "metadata": {},
   "outputs": [
    {
     "data": {
      "image/png": "[encoded data removed]",
      "text/plain": [
       "<Figure size 640x480 with 2 Axes>"
      ]
     },
     "metadata": {},
     "output_type": "display_data"
    }
   ],
   "source": [
    "matriz_confusao(y_teste,tr_y_pred,'Decision Tree')"
   ]
  },
  {
   "cell_type": "markdown",
   "id": "04a06644-70e4-4aa2-b91e-1ddf75e1ea59",
   "metadata": {
    "jp-MarkdownHeadingCollapsed": true,
    "tags": []
   },
   "source": [
    "### Accuracy Score"
   ]
  },
  {
   "cell_type": "code",
   "execution_count": 107,
   "id": "885e74b8-82f3-44ec-9f62-50f401a92223",
   "metadata": {},
   "outputs": [],
   "source": [
    "from sklearn.metrics import accuracy_score\n",
    "acc_naive_bayes = accuracy_score(y_teste,nb_y_pred)\n",
    "acc_decision_tree = accuracy_score(y_teste,tr_y_pred)\n",
    "acc_random_forest = accuracy_score(y_teste,rf_y_pred)"
   ]
  },
  {
   "cell_type": "code",
   "execution_count": 108,
   "id": "aa683ae8-1ebe-4659-9c87-ef6438d88a04",
   "metadata": {},
   "outputs": [
    {
     "name": "stdout",
     "output_type": "stream",
     "text": [
      "Accuracy score Naive Bayes: 0.43157894736842106\n",
      "Accuracy score Decision Tree: 0.5952153110047846\n",
      "Accuracy score Random Forest: 0.6645933014354067\n"
     ]
    }
   ],
   "source": [
    "print('Accuracy score Naive Bayes: '+ str(acc_naive_bayes))\n",
    "print('Accuracy score Decision Tree: '+ str(acc_decision_tree))\n",
    "print('Accuracy score Random Forest: '+ str(acc_random_forest))"
   ]
  },
  {
   "cell_type": "markdown",
   "id": "d077794e-56cb-4549-b333-721d6399ec80",
   "metadata": {
    "tags": []
   },
   "source": [
    "### Verdadeiros positivos, verdadeiros negativos, falsos positivos e falsos negativos"
   ]
  },
  {
   "cell_type": "code",
   "execution_count": 109,
   "id": "9b143e01-7e6f-4148-bb84-ef96d6ebb70a",
   "metadata": {},
   "outputs": [],
   "source": [
    "def analise_resultados_classificacao(y_true, y_pred,nome):\n",
    "    TP = sum((y_true == 1) & (y_pred == 1))\n",
    "    TN = sum((y_true == 0) & (y_pred == 0))\n",
    "    FP = sum((y_true == 0) & (y_pred == 1))\n",
    "    FN = sum((y_true == 1) & (y_pred == 0))\n",
    "    print(\"Resultados da análise do algoritmo \"+nome)\n",
    "    print(\"Verdadeiros Positivos:\", TP)\n",
    "    print(\"Verdadeiros Negativos:\", TN)\n",
    "    print(\"Falsos Positivos:\", FP)\n",
    "    print(\"Falsos Negativos:\", FN)"
   ]
  },
  {
   "cell_type": "markdown",
   "id": "82d450b5-083e-45cc-a635-349bc4448c55",
   "metadata": {
    "jp-MarkdownHeadingCollapsed": true,
    "tags": []
   },
   "source": [
    "#### Análise Naive Bayes\n"
   ]
  },
  {
   "cell_type": "code",
   "execution_count": 110,
   "id": "d43d25af-e666-4fd4-bfff-6deec8e89d22",
   "metadata": {},
   "outputs": [
    {
     "data": {
      "image/png": "[encoded data removed]",
      "text/plain": [
       "<Figure size 640x480 with 2 Axes>"
      ]
     },
     "metadata": {},
     "output_type": "display_data"
    }
   ],
   "source": [
    "matriz_confusao(y_teste,nb_y_pred,'Naive Bayes')"
   ]
  },
  {
   "cell_type": "code",
   "execution_count": 112,
   "id": "6818ec1b-9b9d-484b-ae3a-a21c64a07c61",
   "metadata": {},
   "outputs": [
    {
     "name": "stdout",
     "output_type": "stream",
     "text": [
      "Resultados da análise do algoritmo Naive Bayes\n",
      "Verdadeiros Positivos: 338\n",
      "Verdadeiros Negativos: 564\n",
      "Falsos Positivos: 1020\n",
      "Falsos Negativos: 168\n"
     ]
    }
   ],
   "source": [
    "analise_resultados_classificacao(y_teste,nb_y_pred,'Naive Bayes')"
   ]
  },
  {
   "cell_type": "code",
   "execution_count": 113,
   "id": "4f05d32e-e88c-4eaa-be32-4f6660ce0f2b",
   "metadata": {},
   "outputs": [
    {
     "data": {
      "text/plain": [
       "0.43157894736842106"
      ]
     },
     "execution_count": 113,
     "metadata": {},
     "output_type": "execute_result"
    }
   ],
   "source": [
    "acc_naive_bayes"
   ]
  },
  {
   "cell_type": "markdown",
   "id": "7142c0bd-c93a-4426-be85-b43f6b36b3c1",
   "metadata": {
    "jp-MarkdownHeadingCollapsed": true,
    "tags": []
   },
   "source": [
    "#### Análise Random Forest\n"
   ]
  },
  {
   "cell_type": "code",
   "execution_count": 114,
   "id": "a7bc594f-948c-4da2-976b-de748bef9c90",
   "metadata": {},
   "outputs": [
    {
     "data": {
      "image/png": "[encoded data removed]",
      "text/plain": [
       "<Figure size 640x480 with 2 Axes>"
      ]
     },
     "metadata": {},
     "output_type": "display_data"
    }
   ],
   "source": [
    "matriz_confusao(y_teste,rf_y_pred,'Random Forest')"
   ]
  },
  {
   "cell_type": "code",
   "execution_count": 115,
   "id": "126e15d5-7543-4866-b26d-f98111b603f5",
   "metadata": {},
   "outputs": [
    {
     "name": "stdout",
     "output_type": "stream",
     "text": [
      "Resultados da análise do algoritmo Random Forest\n",
      "Verdadeiros Positivos: 123\n",
      "Verdadeiros Negativos: 1266\n",
      "Falsos Positivos: 318\n",
      "Falsos Negativos: 383\n"
     ]
    }
   ],
   "source": [
    "analise_resultados_classificacao(y_teste,rf_y_pred,'Random Forest')"
   ]
  },
  {
   "cell_type": "code",
   "execution_count": 116,
   "id": "3928faa9-b163-4c8e-9cc2-cf0d57bee4a8",
   "metadata": {},
   "outputs": [
    {
     "data": {
      "text/plain": [
       "0.6645933014354067"
      ]
     },
     "execution_count": 116,
     "metadata": {},
     "output_type": "execute_result"
    }
   ],
   "source": [
    "acc_random_forest"
   ]
  },
  {
   "cell_type": "markdown",
   "id": "e8326242-3c84-4bb4-a97d-27a68356fba8",
   "metadata": {
    "tags": []
   },
   "source": [
    "### Precision e Recall\n",
    "Precisão e sensibilidade do modelo\n"
   ]
  },
  {
   "cell_type": "code",
   "execution_count": 131,
   "id": "05bb5925-b4a1-423f-90ba-881dbeec345f",
   "metadata": {},
   "outputs": [],
   "source": [
    "from sklearn.metrics import precision_score,recall_score\n",
    "pre_naive_bayes = precision_score(y_teste,nb_y_pred)\n",
    "pre_random_forest = precision_score(y_teste,rf_y_pred)\n",
    "rec_naive_bayes = recall_score(y_teste,nb_y_pred)\n",
    "rec_random_forest = recall_score(y_teste,rf_y_pred)"
   ]
  },
  {
   "cell_type": "code",
   "execution_count": 132,
   "id": "369854b8-5675-413f-8d55-71b67cbff8a2",
   "metadata": {},
   "outputs": [
    {
     "data": {
      "image/png": "[encoded data removed]",
      "text/plain": [
       "<Figure size 640x480 with 2 Axes>"
      ]
     },
     "metadata": {},
     "output_type": "display_data"
    }
   ],
   "source": [
    "matriz_confusao(y_teste,nb_y_pred,\"Naive Bayes\")"
   ]
  },
  {
   "cell_type": "code",
   "execution_count": 119,
   "id": "ec882e23-e4ae-445d-b324-cca02d86d6a1",
   "metadata": {},
   "outputs": [
    {
     "name": "stdout",
     "output_type": "stream",
     "text": [
      "Precisão do Naive Bayes: 0.24889543446244478\n",
      "Sensibilidade Naive Bayes: 0.6679841897233202\n"
     ]
    }
   ],
   "source": [
    "print(\"Precisão do Naive Bayes: \"+str(pre_naive_bayes))\n",
    "print(\"Sensibilidade Naive Bayes: \"+str(rec_naive_bayes))"
   ]
  },
  {
   "cell_type": "code",
   "execution_count": 120,
   "id": "bd135639-9f85-438e-bb62-510cac3c507d",
   "metadata": {},
   "outputs": [
    {
     "data": {
      "image/png": "[encoded data removed]",
      "text/plain": [
       "<Figure size 640x480 with 2 Axes>"
      ]
     },
     "metadata": {},
     "output_type": "display_data"
    }
   ],
   "source": [
    "matriz_confusao(y_teste,rf_y_pred,\"Random Forest\")"
   ]
  },
  {
   "cell_type": "code",
   "execution_count": 121,
   "id": "405bef9b-3449-435e-abeb-b3f372addf39",
   "metadata": {},
   "outputs": [
    {
     "name": "stdout",
     "output_type": "stream",
     "text": [
      "Precisão do Random Forest: 0.2789115646258503\n",
      "Sensibilidade Random Forest: 0.24308300395256918\n"
     ]
    }
   ],
   "source": [
    "print(\"Precisão do Random Forest: \"+str(pre_random_forest))\n",
    "print(\"Sensibilidade Random Forest: \"+str(rec_random_forest))"
   ]
  },
  {
   "cell_type": "markdown",
   "id": "8c72835a-6407-43aa-81e1-e30d9e1f71e7",
   "metadata": {},
   "source": [
    "### F1 Score\n",
    "Balanceamento entre Precision e Recall"
   ]
  },
  {
   "cell_type": "code",
   "execution_count": 122,
   "id": "bd68fbff-a4c3-4ac9-b748-48aa4fef116f",
   "metadata": {},
   "outputs": [],
   "source": [
    "from sklearn.metrics import f1_score"
   ]
  },
  {
   "cell_type": "code",
   "execution_count": 123,
   "id": "d75ee5b5-adb6-448b-81ec-1d74939c6eb0",
   "metadata": {},
   "outputs": [],
   "source": [
    "f1_naive_bayes = f1_score(y_teste,nb_y_pred)\n",
    "f1_random_forest = f1_score(y_teste,rf_y_pred)"
   ]
  },
  {
   "cell_type": "code",
   "execution_count": 124,
   "id": "3605b6d9-d7cc-4c01-a6b7-50912f6fb696",
   "metadata": {},
   "outputs": [
    {
     "name": "stdout",
     "output_type": "stream",
     "text": [
      "F1 Score Naive Bayes: 0.3626609442060086\n",
      "F1 Score Random Forest: 0.25976768743400214\n"
     ]
    }
   ],
   "source": [
    "print('F1 Score Naive Bayes: '+str(f1_naive_bayes))\n",
    "print('F1 Score Random Forest: '+str(f1_random_forest))"
   ]
  },
  {
   "cell_type": "markdown",
   "id": "06751bd6-5a0f-4593-86b1-12977291a9ed",
   "metadata": {},
   "source": [
    "### Definir tabela de métricas e função que alimenta a tabela"
   ]
  },
  {
   "cell_type": "code",
   "execution_count": 126,
   "id": "8ec00348-2629-411c-a35a-af4729fba909",
   "metadata": {},
   "outputs": [],
   "source": [
    "# Tabela:\n",
    "metricas = pd.DataFrame(columns=[\n",
    "    'Nome algoritmo',\n",
    "    'Acurácia',\n",
    "    'Precisão',\n",
    "    'Sensibilidade',\n",
    "    'F1 Score'\n",
    "])\n",
    "# Função que alimenta a tabela:\n",
    "def adiciona_metricas(tabela,y_teste,y_pred,nome_algoritmo):\n",
    "    from sklearn.metrics import accuracy_score,precision_score,recall_score,f1_score\n",
    "    acuracia = accuracy_score(y_teste,y_pred)\n",
    "    precisao = precision_score(y_teste,y_pred)\n",
    "    sensibilidade = recall_score(y_teste,y_pred)\n",
    "    f1 = f1_score(y_teste,y_pred)\n",
    "    dados = [nome_algoritmo,acuracia,precisao,sensibilidade,f1]\n",
    "    dados = pd.Series(dados,index = tabela.columns)\n",
    "    tabela.loc[len(tabela)] = dados\n",
    "    return tabela\n"
   ]
  },
  {
   "cell_type": "code",
   "execution_count": 127,
   "id": "624d2c34-c1f2-475c-bd53-b0ba62638ce8",
   "metadata": {},
   "outputs": [
    {
     "data": {
      "text/html": [
       "<div>\n",
       "<style scoped>\n",
       "    .dataframe tbody tr th:only-of-type {\n",
       "        vertical-align: middle;\n",
       "    }\n",
       "\n",
       "    .dataframe tbody tr th {\n",
       "        vertical-align: top;\n",
       "    }\n",
       "\n",
       "    .dataframe thead th {\n",
       "        text-align: right;\n",
       "    }\n",
       "</style>\n",
       "<table border=\"1\" class=\"dataframe\">\n",
       "  <thead>\n",
       "    <tr style=\"text-align: right;\">\n",
       "      <th></th>\n",
       "      <th>Nome algoritmo</th>\n",
       "      <th>Acurácia</th>\n",
       "      <th>Precisão</th>\n",
       "      <th>Sensibilidade</th>\n",
       "      <th>F1 Score</th>\n",
       "    </tr>\n",
       "  </thead>\n",
       "  <tbody>\n",
       "    <tr>\n",
       "      <th>0</th>\n",
       "      <td>Naive Bayes</td>\n",
       "      <td>0.431579</td>\n",
       "      <td>0.248895</td>\n",
       "      <td>0.667984</td>\n",
       "      <td>0.362661</td>\n",
       "    </tr>\n",
       "    <tr>\n",
       "      <th>1</th>\n",
       "      <td>Decision Tree</td>\n",
       "      <td>0.595215</td>\n",
       "      <td>0.252907</td>\n",
       "      <td>0.343874</td>\n",
       "      <td>0.291457</td>\n",
       "    </tr>\n",
       "    <tr>\n",
       "      <th>2</th>\n",
       "      <td>RandomForestClassifier</td>\n",
       "      <td>0.664593</td>\n",
       "      <td>0.278912</td>\n",
       "      <td>0.243083</td>\n",
       "      <td>0.259768</td>\n",
       "    </tr>\n",
       "  </tbody>\n",
       "</table>\n",
       "</div>"
      ],
      "text/plain": [
       "           Nome algoritmo  Acurácia  Precisão Sensibilidade  F1 Score\n",
       "0             Naive Bayes  0.431579  0.248895      0.667984  0.362661\n",
       "1           Decision Tree  0.595215  0.252907      0.343874  0.291457\n",
       "2  RandomForestClassifier  0.664593  0.278912      0.243083  0.259768"
      ]
     },
     "execution_count": 127,
     "metadata": {},
     "output_type": "execute_result"
    }
   ],
   "source": [
    "adiciona_metricas(metricas,y_teste,nb_y_pred,\"Naive Bayes\")\n",
    "adiciona_metricas(metricas,y_teste,tr_y_pred,\"Decision Tree\")\n",
    "adiciona_metricas(metricas,y_teste,rf_y_pred,\"RandomForestClassifier\")"
   ]
  },
  {
   "cell_type": "code",
   "execution_count": 128,
   "id": "4da0b94a-9d3e-44e3-ae2c-e063be00b5ee",
   "metadata": {},
   "outputs": [
    {
     "data": {
      "text/html": [
       "<div>\n",
       "<style scoped>\n",
       "    .dataframe tbody tr th:only-of-type {\n",
       "        vertical-align: middle;\n",
       "    }\n",
       "\n",
       "    .dataframe tbody tr th {\n",
       "        vertical-align: top;\n",
       "    }\n",
       "\n",
       "    .dataframe thead th {\n",
       "        text-align: right;\n",
       "    }\n",
       "</style>\n",
       "<table border=\"1\" class=\"dataframe\">\n",
       "  <thead>\n",
       "    <tr style=\"text-align: right;\">\n",
       "      <th></th>\n",
       "      <th>Nome algoritmo</th>\n",
       "      <th>Acurácia</th>\n",
       "      <th>Precisão</th>\n",
       "      <th>Sensibilidade</th>\n",
       "      <th>F1 Score</th>\n",
       "    </tr>\n",
       "  </thead>\n",
       "  <tbody>\n",
       "    <tr>\n",
       "      <th>0</th>\n",
       "      <td>Naive Bayes</td>\n",
       "      <td>0.431579</td>\n",
       "      <td>0.248895</td>\n",
       "      <td>0.667984</td>\n",
       "      <td>0.362661</td>\n",
       "    </tr>\n",
       "    <tr>\n",
       "      <th>1</th>\n",
       "      <td>Decision Tree</td>\n",
       "      <td>0.595215</td>\n",
       "      <td>0.252907</td>\n",
       "      <td>0.343874</td>\n",
       "      <td>0.291457</td>\n",
       "    </tr>\n",
       "    <tr>\n",
       "      <th>2</th>\n",
       "      <td>RandomForestClassifier</td>\n",
       "      <td>0.664593</td>\n",
       "      <td>0.278912</td>\n",
       "      <td>0.243083</td>\n",
       "      <td>0.259768</td>\n",
       "    </tr>\n",
       "    <tr>\n",
       "      <th>3</th>\n",
       "      <td>Naive Bayes - Base balanceada</td>\n",
       "      <td>0.431579</td>\n",
       "      <td>0.248895</td>\n",
       "      <td>0.667984</td>\n",
       "      <td>0.362661</td>\n",
       "    </tr>\n",
       "    <tr>\n",
       "      <th>4</th>\n",
       "      <td>Decision Tree - Base balanceada</td>\n",
       "      <td>0.595215</td>\n",
       "      <td>0.252907</td>\n",
       "      <td>0.343874</td>\n",
       "      <td>0.291457</td>\n",
       "    </tr>\n",
       "    <tr>\n",
       "      <th>5</th>\n",
       "      <td>RandomForestClassifier - Base balanceada</td>\n",
       "      <td>0.664593</td>\n",
       "      <td>0.278912</td>\n",
       "      <td>0.243083</td>\n",
       "      <td>0.259768</td>\n",
       "    </tr>\n",
       "  </tbody>\n",
       "</table>\n",
       "</div>"
      ],
      "text/plain": [
       "                             Nome algoritmo  Acurácia  Precisão Sensibilidade  \\\n",
       "0                               Naive Bayes  0.431579  0.248895      0.667984   \n",
       "1                             Decision Tree  0.595215  0.252907      0.343874   \n",
       "2                    RandomForestClassifier  0.664593  0.278912      0.243083   \n",
       "3             Naive Bayes - Base balanceada  0.431579  0.248895      0.667984   \n",
       "4           Decision Tree - Base balanceada  0.595215  0.252907      0.343874   \n",
       "5  RandomForestClassifier - Base balanceada  0.664593  0.278912      0.243083   \n",
       "\n",
       "   F1 Score  \n",
       "0  0.362661  \n",
       "1  0.291457  \n",
       "2  0.259768  \n",
       "3  0.362661  \n",
       "4  0.291457  \n",
       "5  0.259768  "
      ]
     },
     "execution_count": 128,
     "metadata": {},
     "output_type": "execute_result"
    }
   ],
   "source": [
    "adiciona_metricas(metricas,y_teste,nb_y_pred,\"Naive Bayes - Base balanceada\")\n",
    "adiciona_metricas(metricas,y_teste,tr_y_pred,\"Decision Tree - Base balanceada\")\n",
    "adiciona_metricas(metricas,y_teste,rf_y_pred,\"RandomForestClassifier - Base balanceada\")"
   ]
  },
  {
   "cell_type": "code",
   "execution_count": 129,
   "id": "085665a4-c185-43ac-87d6-ee7a587fc68a",
   "metadata": {},
   "outputs": [
    {
     "data": {
      "text/html": [
       "<div>\n",
       "<style scoped>\n",
       "    .dataframe tbody tr th:only-of-type {\n",
       "        vertical-align: middle;\n",
       "    }\n",
       "\n",
       "    .dataframe tbody tr th {\n",
       "        vertical-align: top;\n",
       "    }\n",
       "\n",
       "    .dataframe thead th {\n",
       "        text-align: right;\n",
       "    }\n",
       "</style>\n",
       "<table border=\"1\" class=\"dataframe\">\n",
       "  <thead>\n",
       "    <tr style=\"text-align: right;\">\n",
       "      <th></th>\n",
       "      <th>Nome algoritmo</th>\n",
       "      <th>Acurácia</th>\n",
       "      <th>Precisão</th>\n",
       "      <th>Sensibilidade</th>\n",
       "      <th>F1 Score</th>\n",
       "    </tr>\n",
       "  </thead>\n",
       "  <tbody>\n",
       "    <tr>\n",
       "      <th>1</th>\n",
       "      <td>Decision Tree</td>\n",
       "      <td>0.595215</td>\n",
       "      <td>0.252907</td>\n",
       "      <td>0.343874</td>\n",
       "      <td>0.291457</td>\n",
       "    </tr>\n",
       "    <tr>\n",
       "      <th>4</th>\n",
       "      <td>Decision Tree - Base balanceada</td>\n",
       "      <td>0.595215</td>\n",
       "      <td>0.252907</td>\n",
       "      <td>0.343874</td>\n",
       "      <td>0.291457</td>\n",
       "    </tr>\n",
       "    <tr>\n",
       "      <th>0</th>\n",
       "      <td>Naive Bayes</td>\n",
       "      <td>0.431579</td>\n",
       "      <td>0.248895</td>\n",
       "      <td>0.667984</td>\n",
       "      <td>0.362661</td>\n",
       "    </tr>\n",
       "    <tr>\n",
       "      <th>3</th>\n",
       "      <td>Naive Bayes - Base balanceada</td>\n",
       "      <td>0.431579</td>\n",
       "      <td>0.248895</td>\n",
       "      <td>0.667984</td>\n",
       "      <td>0.362661</td>\n",
       "    </tr>\n",
       "    <tr>\n",
       "      <th>2</th>\n",
       "      <td>RandomForestClassifier</td>\n",
       "      <td>0.664593</td>\n",
       "      <td>0.278912</td>\n",
       "      <td>0.243083</td>\n",
       "      <td>0.259768</td>\n",
       "    </tr>\n",
       "    <tr>\n",
       "      <th>5</th>\n",
       "      <td>RandomForestClassifier - Base balanceada</td>\n",
       "      <td>0.664593</td>\n",
       "      <td>0.278912</td>\n",
       "      <td>0.243083</td>\n",
       "      <td>0.259768</td>\n",
       "    </tr>\n",
       "  </tbody>\n",
       "</table>\n",
       "</div>"
      ],
      "text/plain": [
       "                             Nome algoritmo  Acurácia  Precisão Sensibilidade  \\\n",
       "1                             Decision Tree  0.595215  0.252907      0.343874   \n",
       "4           Decision Tree - Base balanceada  0.595215  0.252907      0.343874   \n",
       "0                               Naive Bayes  0.431579  0.248895      0.667984   \n",
       "3             Naive Bayes - Base balanceada  0.431579  0.248895      0.667984   \n",
       "2                    RandomForestClassifier  0.664593  0.278912      0.243083   \n",
       "5  RandomForestClassifier - Base balanceada  0.664593  0.278912      0.243083   \n",
       "\n",
       "   F1 Score  \n",
       "1  0.291457  \n",
       "4  0.291457  \n",
       "0  0.362661  \n",
       "3  0.362661  \n",
       "2  0.259768  \n",
       "5  0.259768  "
      ]
     },
     "execution_count": 129,
     "metadata": {},
     "output_type": "execute_result"
    }
   ],
   "source": [
    "metricas.sort_values(by='Nome algoritmo')"
   ]
  },
  {
   "cell_type": "code",
   "execution_count": 139,
   "id": "a45fb148-ea88-43b8-92e5-b120a81d37a0",
   "metadata": {},
   "outputs": [],
   "source": [
    "from sklearn.compose import ColumnTransformer\n",
    "from sklearn.pipeline import Pipeline\n",
    "from sklearn.ensemble import RandomForestClassifier\n",
    "from sklearn.preprocessing import MinMaxScaler, OneHotEncoder\n",
    "preprocessamento_x = ColumnTransformer([\n",
    "    ('used_plan',OneHotEncoder(),[0]),\n",
    "    ('valores_numericos',MinMaxScaler(),slice(1,None))\n",
    "])"
   ]
  },
  {
   "cell_type": "code",
   "execution_count": 140,
   "id": "1a13b8e5-7ab2-4ab5-9753-f0c60b14f551",
   "metadata": {},
   "outputs": [],
   "source": [
    "\n",
    "pipeline = Pipeline([\n",
    "    ('processador_x', preprocessamento_x),\n",
    "    ('classificador',RandomForestClassifier())\n",
    "])"
   ]
  },
  {
   "cell_type": "code",
   "execution_count": 142,
   "id": "206a3258-dd36-4428-a9ed-c0f2658b929c",
   "metadata": {},
   "outputs": [
    {
     "data": {
      "text/html": [
       "<style>#sk-container-id-1 {color: black;background-color: white;}#sk-container-id-1 pre{padding: 0;}#sk-container-id-1 div.sk-toggleable {background-color: white;}#sk-container-id-1 label.sk-toggleable__label {cursor: pointer;display: block;width: 100%;margin-bottom: 0;padding: 0.3em;box-sizing: border-box;text-align: center;}#sk-container-id-1 label.sk-toggleable__label-arrow:before {content: \"▸\";float: left;margin-right: 0.25em;color: #696969;}#sk-container-id-1 label.sk-toggleable__label-arrow:hover:before {color: black;}#sk-container-id-1 div.sk-estimator:hover label.sk-toggleable__label-arrow:before {color: black;}#sk-container-id-1 div.sk-toggleable__content {max-height: 0;max-width: 0;overflow: hidden;text-align: left;background-color: #f0f8ff;}#sk-container-id-1 div.sk-toggleable__content pre {margin: 0.2em;color: black;border-radius: 0.25em;background-color: #f0f8ff;}#sk-container-id-1 input.sk-toggleable__control:checked~div.sk-toggleable__content {max-height: 200px;max-width: 100%;overflow: auto;}#sk-container-id-1 input.sk-toggleable__control:checked~label.sk-toggleable__label-arrow:before {content: \"▾\";}#sk-container-id-1 div.sk-estimator input.sk-toggleable__control:checked~label.sk-toggleable__label {background-color: #d4ebff;}#sk-container-id-1 div.sk-label input.sk-toggleable__control:checked~label.sk-toggleable__label {background-color: #d4ebff;}#sk-container-id-1 input.sk-hidden--visually {border: 0;clip: rect(1px 1px 1px 1px);clip: rect(1px, 1px, 1px, 1px);height: 1px;margin: -1px;overflow: hidden;padding: 0;position: absolute;width: 1px;}#sk-container-id-1 div.sk-estimator {font-family: monospace;background-color: #f0f8ff;border: 1px dotted black;border-radius: 0.25em;box-sizing: border-box;margin-bottom: 0.5em;}#sk-container-id-1 div.sk-estimator:hover {background-color: #d4ebff;}#sk-container-id-1 div.sk-parallel-item::after {content: \"\";width: 100%;border-bottom: 1px solid gray;flex-grow: 1;}#sk-container-id-1 div.sk-label:hover label.sk-toggleable__label {background-color: #d4ebff;}#sk-container-id-1 div.sk-serial::before {content: \"\";position: absolute;border-left: 1px solid gray;box-sizing: border-box;top: 0;bottom: 0;left: 50%;z-index: 0;}#sk-container-id-1 div.sk-serial {display: flex;flex-direction: column;align-items: center;background-color: white;padding-right: 0.2em;padding-left: 0.2em;position: relative;}#sk-container-id-1 div.sk-item {position: relative;z-index: 1;}#sk-container-id-1 div.sk-parallel {display: flex;align-items: stretch;justify-content: center;background-color: white;position: relative;}#sk-container-id-1 div.sk-item::before, #sk-container-id-1 div.sk-parallel-item::before {content: \"\";position: absolute;border-left: 1px solid gray;box-sizing: border-box;top: 0;bottom: 0;left: 50%;z-index: -1;}#sk-container-id-1 div.sk-parallel-item {display: flex;flex-direction: column;z-index: 1;position: relative;background-color: white;}#sk-container-id-1 div.sk-parallel-item:first-child::after {align-self: flex-end;width: 50%;}#sk-container-id-1 div.sk-parallel-item:last-child::after {align-self: flex-start;width: 50%;}#sk-container-id-1 div.sk-parallel-item:only-child::after {width: 0;}#sk-container-id-1 div.sk-dashed-wrapped {border: 1px dashed gray;margin: 0 0.4em 0.5em 0.4em;box-sizing: border-box;padding-bottom: 0.4em;background-color: white;}#sk-container-id-1 div.sk-label label {font-family: monospace;font-weight: bold;display: inline-block;line-height: 1.2em;}#sk-container-id-1 div.sk-label-container {text-align: center;}#sk-container-id-1 div.sk-container {/* jupyter's `normalize.less` sets `[hidden] { display: none; }` but bootstrap.min.css set `[hidden] { display: none !important; }` so we also need the `!important` here to be able to override the default hidden behavior on the sphinx rendered scikit-learn.org. See: https://github.com/scikit-learn/scikit-learn/issues/21755 */display: inline-block !important;position: relative;}#sk-container-id-1 div.sk-text-repr-fallback {display: none;}</style><div id=\"sk-container-id-1\" class=\"sk-top-container\"><div class=\"sk-text-repr-fallback\"><pre>Pipeline(steps=[(&#x27;processador_x&#x27;,\n",
       "                 ColumnTransformer(transformers=[(&#x27;used_plan&#x27;, OneHotEncoder(),\n",
       "                                                  [0]),\n",
       "                                                 (&#x27;valores_numericos&#x27;,\n",
       "                                                  MinMaxScaler(),\n",
       "                                                  slice(1, None, None))])),\n",
       "                (&#x27;classificador&#x27;, RandomForestClassifier())])</pre><b>In a Jupyter environment, please rerun this cell to show the HTML representation or trust the notebook. <br />On GitHub, the HTML representation is unable to render, please try loading this page with nbviewer.org.</b></div><div class=\"sk-container\" hidden><div class=\"sk-item sk-dashed-wrapped\"><div class=\"sk-label-container\"><div class=\"sk-label sk-toggleable\"><input class=\"sk-toggleable__control sk-hidden--visually\" id=\"sk-estimator-id-1\" type=\"checkbox\" ><label for=\"sk-estimator-id-1\" class=\"sk-toggleable__label sk-toggleable__label-arrow\">Pipeline</label><div class=\"sk-toggleable__content\"><pre>Pipeline(steps=[(&#x27;processador_x&#x27;,\n",
       "                 ColumnTransformer(transformers=[(&#x27;used_plan&#x27;, OneHotEncoder(),\n",
       "                                                  [0]),\n",
       "                                                 (&#x27;valores_numericos&#x27;,\n",
       "                                                  MinMaxScaler(),\n",
       "                                                  slice(1, None, None))])),\n",
       "                (&#x27;classificador&#x27;, RandomForestClassifier())])</pre></div></div></div><div class=\"sk-serial\"><div class=\"sk-item sk-dashed-wrapped\"><div class=\"sk-label-container\"><div class=\"sk-label sk-toggleable\"><input class=\"sk-toggleable__control sk-hidden--visually\" id=\"sk-estimator-id-2\" type=\"checkbox\" ><label for=\"sk-estimator-id-2\" class=\"sk-toggleable__label sk-toggleable__label-arrow\">processador_x: ColumnTransformer</label><div class=\"sk-toggleable__content\"><pre>ColumnTransformer(transformers=[(&#x27;used_plan&#x27;, OneHotEncoder(), [0]),\n",
       "                                (&#x27;valores_numericos&#x27;, MinMaxScaler(),\n",
       "                                 slice(1, None, None))])</pre></div></div></div><div class=\"sk-parallel\"><div class=\"sk-parallel-item\"><div class=\"sk-item\"><div class=\"sk-label-container\"><div class=\"sk-label sk-toggleable\"><input class=\"sk-toggleable__control sk-hidden--visually\" id=\"sk-estimator-id-3\" type=\"checkbox\" ><label for=\"sk-estimator-id-3\" class=\"sk-toggleable__label sk-toggleable__label-arrow\">used_plan</label><div class=\"sk-toggleable__content\"><pre>[0]</pre></div></div></div><div class=\"sk-serial\"><div class=\"sk-item\"><div class=\"sk-estimator sk-toggleable\"><input class=\"sk-toggleable__control sk-hidden--visually\" id=\"sk-estimator-id-4\" type=\"checkbox\" ><label for=\"sk-estimator-id-4\" class=\"sk-toggleable__label sk-toggleable__label-arrow\">OneHotEncoder</label><div class=\"sk-toggleable__content\"><pre>OneHotEncoder()</pre></div></div></div></div></div></div><div class=\"sk-parallel-item\"><div class=\"sk-item\"><div class=\"sk-label-container\"><div class=\"sk-label sk-toggleable\"><input class=\"sk-toggleable__control sk-hidden--visually\" id=\"sk-estimator-id-5\" type=\"checkbox\" ><label for=\"sk-estimator-id-5\" class=\"sk-toggleable__label sk-toggleable__label-arrow\">valores_numericos</label><div class=\"sk-toggleable__content\"><pre>slice(1, None, None)</pre></div></div></div><div class=\"sk-serial\"><div class=\"sk-item\"><div class=\"sk-estimator sk-toggleable\"><input class=\"sk-toggleable__control sk-hidden--visually\" id=\"sk-estimator-id-6\" type=\"checkbox\" ><label for=\"sk-estimator-id-6\" class=\"sk-toggleable__label sk-toggleable__label-arrow\">MinMaxScaler</label><div class=\"sk-toggleable__content\"><pre>MinMaxScaler()</pre></div></div></div></div></div></div></div></div><div class=\"sk-item\"><div class=\"sk-estimator sk-toggleable\"><input class=\"sk-toggleable__control sk-hidden--visually\" id=\"sk-estimator-id-7\" type=\"checkbox\" ><label for=\"sk-estimator-id-7\" class=\"sk-toggleable__label sk-toggleable__label-arrow\">RandomForestClassifier</label><div class=\"sk-toggleable__content\"><pre>RandomForestClassifier()</pre></div></div></div></div></div></div></div>"
      ],
      "text/plain": [
       "Pipeline(steps=[('processador_x',\n",
       "                 ColumnTransformer(transformers=[('used_plan', OneHotEncoder(),\n",
       "                                                  [0]),\n",
       "                                                 ('valores_numericos',\n",
       "                                                  MinMaxScaler(),\n",
       "                                                  slice(1, None, None))])),\n",
       "                ('classificador', RandomForestClassifier())])"
      ]
     },
     "execution_count": 142,
     "metadata": {},
     "output_type": "execute_result"
    }
   ],
   "source": [
    "pipeline.fit(x_treino_original,y_treino_original)"
   ]
  },
  {
   "cell_type": "code",
   "execution_count": 143,
   "id": "77f2dc95-1d23-43b8-8a0d-2534aec04d4e",
   "metadata": {},
   "outputs": [],
   "source": [
    "dados_y_previstos = pipeline.predict(x_treino_original)"
   ]
  },
  {
   "cell_type": "code",
   "execution_count": 144,
   "id": "66507fd6-99bc-4d82-8d53-dc41db341a09",
   "metadata": {},
   "outputs": [
    {
     "data": {
      "text/html": [
       "<style>#sk-container-id-2 {color: black;background-color: white;}#sk-container-id-2 pre{padding: 0;}#sk-container-id-2 div.sk-toggleable {background-color: white;}#sk-container-id-2 label.sk-toggleable__label {cursor: pointer;display: block;width: 100%;margin-bottom: 0;padding: 0.3em;box-sizing: border-box;text-align: center;}#sk-container-id-2 label.sk-toggleable__label-arrow:before {content: \"▸\";float: left;margin-right: 0.25em;color: #696969;}#sk-container-id-2 label.sk-toggleable__label-arrow:hover:before {color: black;}#sk-container-id-2 div.sk-estimator:hover label.sk-toggleable__label-arrow:before {color: black;}#sk-container-id-2 div.sk-toggleable__content {max-height: 0;max-width: 0;overflow: hidden;text-align: left;background-color: #f0f8ff;}#sk-container-id-2 div.sk-toggleable__content pre {margin: 0.2em;color: black;border-radius: 0.25em;background-color: #f0f8ff;}#sk-container-id-2 input.sk-toggleable__control:checked~div.sk-toggleable__content {max-height: 200px;max-width: 100%;overflow: auto;}#sk-container-id-2 input.sk-toggleable__control:checked~label.sk-toggleable__label-arrow:before {content: \"▾\";}#sk-container-id-2 div.sk-estimator input.sk-toggleable__control:checked~label.sk-toggleable__label {background-color: #d4ebff;}#sk-container-id-2 div.sk-label input.sk-toggleable__control:checked~label.sk-toggleable__label {background-color: #d4ebff;}#sk-container-id-2 input.sk-hidden--visually {border: 0;clip: rect(1px 1px 1px 1px);clip: rect(1px, 1px, 1px, 1px);height: 1px;margin: -1px;overflow: hidden;padding: 0;position: absolute;width: 1px;}#sk-container-id-2 div.sk-estimator {font-family: monospace;background-color: #f0f8ff;border: 1px dotted black;border-radius: 0.25em;box-sizing: border-box;margin-bottom: 0.5em;}#sk-container-id-2 div.sk-estimator:hover {background-color: #d4ebff;}#sk-container-id-2 div.sk-parallel-item::after {content: \"\";width: 100%;border-bottom: 1px solid gray;flex-grow: 1;}#sk-container-id-2 div.sk-label:hover label.sk-toggleable__label {background-color: #d4ebff;}#sk-container-id-2 div.sk-serial::before {content: \"\";position: absolute;border-left: 1px solid gray;box-sizing: border-box;top: 0;bottom: 0;left: 50%;z-index: 0;}#sk-container-id-2 div.sk-serial {display: flex;flex-direction: column;align-items: center;background-color: white;padding-right: 0.2em;padding-left: 0.2em;position: relative;}#sk-container-id-2 div.sk-item {position: relative;z-index: 1;}#sk-container-id-2 div.sk-parallel {display: flex;align-items: stretch;justify-content: center;background-color: white;position: relative;}#sk-container-id-2 div.sk-item::before, #sk-container-id-2 div.sk-parallel-item::before {content: \"\";position: absolute;border-left: 1px solid gray;box-sizing: border-box;top: 0;bottom: 0;left: 50%;z-index: -1;}#sk-container-id-2 div.sk-parallel-item {display: flex;flex-direction: column;z-index: 1;position: relative;background-color: white;}#sk-container-id-2 div.sk-parallel-item:first-child::after {align-self: flex-end;width: 50%;}#sk-container-id-2 div.sk-parallel-item:last-child::after {align-self: flex-start;width: 50%;}#sk-container-id-2 div.sk-parallel-item:only-child::after {width: 0;}#sk-container-id-2 div.sk-dashed-wrapped {border: 1px dashed gray;margin: 0 0.4em 0.5em 0.4em;box-sizing: border-box;padding-bottom: 0.4em;background-color: white;}#sk-container-id-2 div.sk-label label {font-family: monospace;font-weight: bold;display: inline-block;line-height: 1.2em;}#sk-container-id-2 div.sk-label-container {text-align: center;}#sk-container-id-2 div.sk-container {/* jupyter's `normalize.less` sets `[hidden] { display: none; }` but bootstrap.min.css set `[hidden] { display: none !important; }` so we also need the `!important` here to be able to override the default hidden behavior on the sphinx rendered scikit-learn.org. See: https://github.com/scikit-learn/scikit-learn/issues/21755 */display: inline-block !important;position: relative;}#sk-container-id-2 div.sk-text-repr-fallback {display: none;}</style><div id=\"sk-container-id-2\" class=\"sk-top-container\"><div class=\"sk-text-repr-fallback\"><pre>Pipeline(steps=[(&#x27;processador_x&#x27;,\n",
       "                 ColumnTransformer(transformers=[(&#x27;used_plan&#x27;, OneHotEncoder(),\n",
       "                                                  [0]),\n",
       "                                                 (&#x27;valores_numericos&#x27;,\n",
       "                                                  MinMaxScaler(),\n",
       "                                                  slice(1, None, None))])),\n",
       "                (&#x27;classificador&#x27;, RandomForestClassifier())])</pre><b>In a Jupyter environment, please rerun this cell to show the HTML representation or trust the notebook. <br />On GitHub, the HTML representation is unable to render, please try loading this page with nbviewer.org.</b></div><div class=\"sk-container\" hidden><div class=\"sk-item sk-dashed-wrapped\"><div class=\"sk-label-container\"><div class=\"sk-label sk-toggleable\"><input class=\"sk-toggleable__control sk-hidden--visually\" id=\"sk-estimator-id-8\" type=\"checkbox\" ><label for=\"sk-estimator-id-8\" class=\"sk-toggleable__label sk-toggleable__label-arrow\">Pipeline</label><div class=\"sk-toggleable__content\"><pre>Pipeline(steps=[(&#x27;processador_x&#x27;,\n",
       "                 ColumnTransformer(transformers=[(&#x27;used_plan&#x27;, OneHotEncoder(),\n",
       "                                                  [0]),\n",
       "                                                 (&#x27;valores_numericos&#x27;,\n",
       "                                                  MinMaxScaler(),\n",
       "                                                  slice(1, None, None))])),\n",
       "                (&#x27;classificador&#x27;, RandomForestClassifier())])</pre></div></div></div><div class=\"sk-serial\"><div class=\"sk-item sk-dashed-wrapped\"><div class=\"sk-label-container\"><div class=\"sk-label sk-toggleable\"><input class=\"sk-toggleable__control sk-hidden--visually\" id=\"sk-estimator-id-9\" type=\"checkbox\" ><label for=\"sk-estimator-id-9\" class=\"sk-toggleable__label sk-toggleable__label-arrow\">processador_x: ColumnTransformer</label><div class=\"sk-toggleable__content\"><pre>ColumnTransformer(transformers=[(&#x27;used_plan&#x27;, OneHotEncoder(), [0]),\n",
       "                                (&#x27;valores_numericos&#x27;, MinMaxScaler(),\n",
       "                                 slice(1, None, None))])</pre></div></div></div><div class=\"sk-parallel\"><div class=\"sk-parallel-item\"><div class=\"sk-item\"><div class=\"sk-label-container\"><div class=\"sk-label sk-toggleable\"><input class=\"sk-toggleable__control sk-hidden--visually\" id=\"sk-estimator-id-10\" type=\"checkbox\" ><label for=\"sk-estimator-id-10\" class=\"sk-toggleable__label sk-toggleable__label-arrow\">used_plan</label><div class=\"sk-toggleable__content\"><pre>[0]</pre></div></div></div><div class=\"sk-serial\"><div class=\"sk-item\"><div class=\"sk-estimator sk-toggleable\"><input class=\"sk-toggleable__control sk-hidden--visually\" id=\"sk-estimator-id-11\" type=\"checkbox\" ><label for=\"sk-estimator-id-11\" class=\"sk-toggleable__label sk-toggleable__label-arrow\">OneHotEncoder</label><div class=\"sk-toggleable__content\"><pre>OneHotEncoder()</pre></div></div></div></div></div></div><div class=\"sk-parallel-item\"><div class=\"sk-item\"><div class=\"sk-label-container\"><div class=\"sk-label sk-toggleable\"><input class=\"sk-toggleable__control sk-hidden--visually\" id=\"sk-estimator-id-12\" type=\"checkbox\" ><label for=\"sk-estimator-id-12\" class=\"sk-toggleable__label sk-toggleable__label-arrow\">valores_numericos</label><div class=\"sk-toggleable__content\"><pre>slice(1, None, None)</pre></div></div></div><div class=\"sk-serial\"><div class=\"sk-item\"><div class=\"sk-estimator sk-toggleable\"><input class=\"sk-toggleable__control sk-hidden--visually\" id=\"sk-estimator-id-13\" type=\"checkbox\" ><label for=\"sk-estimator-id-13\" class=\"sk-toggleable__label sk-toggleable__label-arrow\">MinMaxScaler</label><div class=\"sk-toggleable__content\"><pre>MinMaxScaler()</pre></div></div></div></div></div></div></div></div><div class=\"sk-item\"><div class=\"sk-estimator sk-toggleable\"><input class=\"sk-toggleable__control sk-hidden--visually\" id=\"sk-estimator-id-14\" type=\"checkbox\" ><label for=\"sk-estimator-id-14\" class=\"sk-toggleable__label sk-toggleable__label-arrow\">RandomForestClassifier</label><div class=\"sk-toggleable__content\"><pre>RandomForestClassifier()</pre></div></div></div></div></div></div></div>"
      ],
      "text/plain": [
       "Pipeline(steps=[('processador_x',\n",
       "                 ColumnTransformer(transformers=[('used_plan', OneHotEncoder(),\n",
       "                                                  [0]),\n",
       "                                                 ('valores_numericos',\n",
       "                                                  MinMaxScaler(),\n",
       "                                                  slice(1, None, None))])),\n",
       "                ('classificador', RandomForestClassifier())])"
      ]
     },
     "execution_count": 144,
     "metadata": {},
     "output_type": "execute_result"
    }
   ],
   "source": [
    "modelo_finalizado = Pipeline([\n",
    "    ('processador_x', preprocessamento_x),\n",
    "    ('classificador',RandomForestClassifier())\n",
    "])\n",
    "modelo_finalizado.fit(xx,yy)"
   ]
  },
  {
   "cell_type": "code",
   "execution_count": 147,
   "id": "4d5850e3-3859-4ae0-9bdb-c3094a4b127c",
   "metadata": {},
   "outputs": [
    {
     "data": {
      "text/html": [
       "<div>\n",
       "<style scoped>\n",
       "    .dataframe tbody tr th:only-of-type {\n",
       "        vertical-align: middle;\n",
       "    }\n",
       "\n",
       "    .dataframe tbody tr th {\n",
       "        vertical-align: top;\n",
       "    }\n",
       "\n",
       "    .dataframe thead th {\n",
       "        text-align: right;\n",
       "    }\n",
       "</style>\n",
       "<table border=\"1\" class=\"dataframe\">\n",
       "  <thead>\n",
       "    <tr style=\"text-align: right;\">\n",
       "      <th></th>\n",
       "      <th>upper_age</th>\n",
       "      <th>lower_age</th>\n",
       "      <th>reco_policy_premium</th>\n",
       "      <th>city_code</th>\n",
       "      <th>accomodation_type</th>\n",
       "      <th>reco_insurance_type</th>\n",
       "      <th>is_spouse</th>\n",
       "      <th>health_indicator</th>\n",
       "      <th>holding_policy_duration</th>\n",
       "      <th>holding_policy_type</th>\n",
       "      <th>used_plan</th>\n",
       "    </tr>\n",
       "  </thead>\n",
       "  <tbody>\n",
       "    <tr>\n",
       "      <th>14949</th>\n",
       "      <td>69</td>\n",
       "      <td>66</td>\n",
       "      <td>28672.0</td>\n",
       "      <td>1.0</td>\n",
       "      <td>1</td>\n",
       "      <td>2</td>\n",
       "      <td>2</td>\n",
       "      <td>2</td>\n",
       "      <td>14</td>\n",
       "      <td>2.0</td>\n",
       "      <td>0</td>\n",
       "    </tr>\n",
       "  </tbody>\n",
       "</table>\n",
       "</div>"
      ],
      "text/plain": [
       "       upper_age  lower_age  reco_policy_premium  city_code  \\\n",
       "14949         69         66              28672.0        1.0   \n",
       "\n",
       "       accomodation_type  reco_insurance_type  is_spouse  health_indicator  \\\n",
       "14949                  1                    2          2                 2   \n",
       "\n",
       "      holding_policy_duration  holding_policy_type  used_plan  \n",
       "14949                      14                  2.0          0  "
      ]
     },
     "execution_count": 147,
     "metadata": {},
     "output_type": "execute_result"
    }
   ],
   "source": [
    "dados_amostra = dados_posteriores.sample(1)\n",
    "dados_amostra"
   ]
  },
  {
   "cell_type": "code",
   "execution_count": 150,
   "id": "cc2abf82-5013-4690-9f4d-945adbdf0a7b",
   "metadata": {},
   "outputs": [
    {
     "data": {
      "text/plain": [
       "array([[69, 66, 28672.0, 1.0, 1, 2, 2, 2, '14', 2.0]], dtype=object)"
      ]
     },
     "execution_count": 150,
     "metadata": {},
     "output_type": "execute_result"
    }
   ],
   "source": [
    "dados_amostra_x = dados_amostra.iloc[:,:10].values\n",
    "dados_amostra_x"
   ]
  },
  {
   "cell_type": "code",
   "execution_count": 151,
   "id": "b8166c49-9d17-4329-99c0-6ee1c733c5a6",
   "metadata": {},
   "outputs": [
    {
     "name": "stderr",
     "output_type": "stream",
     "text": [
      "C:\\Users\\luuu_\\anaconda3\\lib\\site-packages\\sklearn\\base.py:420: UserWarning: X does not have valid feature names, but OneHotEncoder was fitted with feature names\n",
      "  warnings.warn(\n",
      "C:\\Users\\luuu_\\anaconda3\\lib\\site-packages\\sklearn\\base.py:420: UserWarning: X does not have valid feature names, but MinMaxScaler was fitted with feature names\n",
      "  warnings.warn(\n"
     ]
    },
    {
     "data": {
      "text/plain": [
       "array([0], dtype=int64)"
      ]
     },
     "execution_count": 151,
     "metadata": {},
     "output_type": "execute_result"
    }
   ],
   "source": [
    "modelo_finalizado.predict(dados_amostra_x)"
   ]
  },
  {
   "cell_type": "code",
   "execution_count": 152,
   "id": "8aeff26c-ae28-4518-95ee-2528c3a6d1c1",
   "metadata": {},
   "outputs": [],
   "source": [
    "import pickle\n",
    "with open('modelo_finalizado.pkl','wb') as file:\n",
    "    pickle.dump(modelo_finalizado,file)"
   ]
  },
  {
   "cell_type": "code",
   "execution_count": 153,
   "id": "abc6bd35-bec8-46af-8ecd-ebc920a34fcb",
   "metadata": {},
   "outputs": [],
   "source": [
    "import pickle\n",
    "with open('modelo_finalizado.pkl', 'rb') as file:\n",
    "    modelo_carregado = pickle.load(file)"
   ]
  },
  {
   "cell_type": "code",
   "execution_count": 156,
   "id": "3d61fe90-771d-4b23-bba5-050b20cbe9ff",
   "metadata": {},
   "outputs": [
    {
     "data": {
      "text/plain": [
       "array([[75, 73, 28044.8, 1.0, 1, 2, 1, 3, '14', 3.0]], dtype=object)"
      ]
     },
     "execution_count": 156,
     "metadata": {},
     "output_type": "execute_result"
    }
   ],
   "source": [
    "dados_amostra = dados_posteriores.sample(1)\n",
    "dados_amostra_x = dados_amostra.iloc[:,:10].values\n",
    "dados_amostra_x"
   ]
  },
  {
   "cell_type": "code",
   "execution_count": 157,
   "id": "174a193f-b129-483d-8bca-206ab816f438",
   "metadata": {},
   "outputs": [
    {
     "name": "stderr",
     "output_type": "stream",
     "text": [
      "C:\\Users\\luuu_\\anaconda3\\lib\\site-packages\\sklearn\\base.py:420: UserWarning: X does not have valid feature names, but OneHotEncoder was fitted with feature names\n",
      "  warnings.warn(\n",
      "C:\\Users\\luuu_\\anaconda3\\lib\\site-packages\\sklearn\\base.py:420: UserWarning: X does not have valid feature names, but MinMaxScaler was fitted with feature names\n",
      "  warnings.warn(\n"
     ]
    },
    {
     "data": {
      "text/plain": [
       "array([0], dtype=int64)"
      ]
     },
     "execution_count": 157,
     "metadata": {},
     "output_type": "execute_result"
    }
   ],
   "source": [
    "modelo_carregado.predict(dados_amostra_x)"
   ]
  },
  {
   "cell_type": "code",
   "execution_count": 158,
   "id": "7ce06d33-7432-4f27-bcaa-ea786f52ec31",
   "metadata": {},
   "outputs": [
    {
     "data": {
      "text/html": [
       "<div>\n",
       "<style scoped>\n",
       "    .dataframe tbody tr th:only-of-type {\n",
       "        vertical-align: middle;\n",
       "    }\n",
       "\n",
       "    .dataframe tbody tr th {\n",
       "        vertical-align: top;\n",
       "    }\n",
       "\n",
       "    .dataframe thead th {\n",
       "        text-align: right;\n",
       "    }\n",
       "</style>\n",
       "<table border=\"1\" class=\"dataframe\">\n",
       "  <thead>\n",
       "    <tr style=\"text-align: right;\">\n",
       "      <th></th>\n",
       "      <th>upper_age</th>\n",
       "      <th>lower_age</th>\n",
       "      <th>reco_policy_premium</th>\n",
       "      <th>city_code</th>\n",
       "      <th>accomodation_type</th>\n",
       "      <th>reco_insurance_type</th>\n",
       "      <th>is_spouse</th>\n",
       "      <th>health_indicator</th>\n",
       "      <th>holding_policy_duration</th>\n",
       "      <th>holding_policy_type</th>\n",
       "      <th>used_plan</th>\n",
       "    </tr>\n",
       "  </thead>\n",
       "  <tbody>\n",
       "    <tr>\n",
       "      <th>16262</th>\n",
       "      <td>75</td>\n",
       "      <td>73</td>\n",
       "      <td>28044.8</td>\n",
       "      <td>1.0</td>\n",
       "      <td>1</td>\n",
       "      <td>2</td>\n",
       "      <td>1</td>\n",
       "      <td>3</td>\n",
       "      <td>14</td>\n",
       "      <td>3.0</td>\n",
       "      <td>0</td>\n",
       "    </tr>\n",
       "  </tbody>\n",
       "</table>\n",
       "</div>"
      ],
      "text/plain": [
       "       upper_age  lower_age  reco_policy_premium  city_code  \\\n",
       "16262         75         73              28044.8        1.0   \n",
       "\n",
       "       accomodation_type  reco_insurance_type  is_spouse  health_indicator  \\\n",
       "16262                  1                    2          1                 3   \n",
       "\n",
       "      holding_policy_duration  holding_policy_type  used_plan  \n",
       "16262                      14                  3.0          0  "
      ]
     },
     "execution_count": 158,
     "metadata": {},
     "output_type": "execute_result"
    }
   ],
   "source": [
    "dados_amostra"
   ]
  },
  {
   "cell_type": "code",
   "execution_count": null,
   "id": "ee9fa27a-d964-40f6-ba0c-737dceed85e7",
   "metadata": {},
   "outputs": [],
   "source": []
  }
 ],
 "metadata": {
  "kernelspec": {
   "display_name": "Python 3 (ipykernel)",
   "language": "python",
   "name": "python3"
  },
  "language_info": {
   "codemirror_mode": {
    "name": "ipython",
    "version": 3
   },
   "file_extension": ".py",
   "mimetype": "text/x-python",
   "name": "python",
   "nbconvert_exporter": "python",
   "pygments_lexer": "ipython3",
   "version": "3.10.9"
  }
 },
 "nbformat": 4,
 "nbformat_minor": 5
}
