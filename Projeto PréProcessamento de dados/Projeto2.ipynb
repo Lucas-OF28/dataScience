{
 "cells": [
  {
   "cell_type": "markdown",
   "id": "26da9dd2-3725-49f5-86c0-724bcbae5ce8",
   "metadata": {},
   "source": [
    "# Projeto 2 de Pré-Processamento de Dados\n",
    "## Este projeto usa uma base de dados utilizada para o treinamento de um modelo de Machine Learning que seja capaz de prever se pessoas vão ou não se ferir em um determinado acidente. Cada linha do dataset apresenta características do acidente e se houve feridos no mesmo\n",
    "### Grupo: Cristoferson, Jean, João Pedro, Lucas, Natalie"
   ]
  },
  {
   "cell_type": "code",
   "execution_count": 28,
   "id": "fc97ccc7-9129-43af-8e58-63a9980c7736",
   "metadata": {},
   "outputs": [
    {
     "data": {
      "text/html": [
       "<div>\n",
       "<style scoped>\n",
       "    .dataframe tbody tr th:only-of-type {\n",
       "        vertical-align: middle;\n",
       "    }\n",
       "\n",
       "    .dataframe tbody tr th {\n",
       "        vertical-align: top;\n",
       "    }\n",
       "\n",
       "    .dataframe thead th {\n",
       "        text-align: right;\n",
       "    }\n",
       "</style>\n",
       "<table border=\"1\" class=\"dataframe\">\n",
       "  <thead>\n",
       "    <tr style=\"text-align: right;\">\n",
       "      <th></th>\n",
       "      <th>crash_date</th>\n",
       "      <th>crash_time</th>\n",
       "      <th>borough</th>\n",
       "      <th>zip_code</th>\n",
       "      <th>latitude</th>\n",
       "      <th>longitude</th>\n",
       "      <th>on_street_name</th>\n",
       "      <th>cross_street_name</th>\n",
       "      <th>off_street_name</th>\n",
       "      <th>contributing_factor_vehicle_1</th>\n",
       "      <th>contributing_factor_vehicle_2</th>\n",
       "      <th>vehicle_type_code_1</th>\n",
       "      <th>vehicle_type_code_2</th>\n",
       "      <th>people_got_injuried</th>\n",
       "    </tr>\n",
       "  </thead>\n",
       "  <tbody>\n",
       "    <tr>\n",
       "      <th>0</th>\n",
       "      <td>09/11/2021</td>\n",
       "      <td>2:39</td>\n",
       "      <td>NaN</td>\n",
       "      <td>NaN</td>\n",
       "      <td>NaN</td>\n",
       "      <td>NaN</td>\n",
       "      <td>WHITESTONE EXPRESSWAY</td>\n",
       "      <td>20 AVENUE</td>\n",
       "      <td>NaN</td>\n",
       "      <td>Aggressive Driving/Road Rage</td>\n",
       "      <td>Unspecified</td>\n",
       "      <td>Sedan</td>\n",
       "      <td>Sedan</td>\n",
       "      <td>1</td>\n",
       "    </tr>\n",
       "    <tr>\n",
       "      <th>2</th>\n",
       "      <td>06/29/2022</td>\n",
       "      <td>6:55</td>\n",
       "      <td>NaN</td>\n",
       "      <td>NaN</td>\n",
       "      <td>NaN</td>\n",
       "      <td>NaN</td>\n",
       "      <td>THROGS NECK BRIDGE</td>\n",
       "      <td>NaN</td>\n",
       "      <td>NaN</td>\n",
       "      <td>Following Too Closely</td>\n",
       "      <td>Unspecified</td>\n",
       "      <td>Sedan</td>\n",
       "      <td>Pick-up Truck</td>\n",
       "      <td>0</td>\n",
       "    </tr>\n",
       "    <tr>\n",
       "      <th>5</th>\n",
       "      <td>04/14/2021</td>\n",
       "      <td>12:47</td>\n",
       "      <td>NaN</td>\n",
       "      <td>NaN</td>\n",
       "      <td>NaN</td>\n",
       "      <td>NaN</td>\n",
       "      <td>MAJOR DEEGAN EXPRESSWAY RAMP</td>\n",
       "      <td>NaN</td>\n",
       "      <td>NaN</td>\n",
       "      <td>Unspecified</td>\n",
       "      <td>Unspecified</td>\n",
       "      <td>Dump</td>\n",
       "      <td>Sedan</td>\n",
       "      <td>0</td>\n",
       "    </tr>\n",
       "    <tr>\n",
       "      <th>6</th>\n",
       "      <td>12/14/2021</td>\n",
       "      <td>17:05</td>\n",
       "      <td>NaN</td>\n",
       "      <td>NaN</td>\n",
       "      <td>40.709183</td>\n",
       "      <td>-73.956825</td>\n",
       "      <td>BROOKLYN QUEENS EXPRESSWAY</td>\n",
       "      <td>NaN</td>\n",
       "      <td>NaN</td>\n",
       "      <td>Passing Too Closely</td>\n",
       "      <td>Unspecified</td>\n",
       "      <td>Sedan</td>\n",
       "      <td>Tractor Truck Diesel</td>\n",
       "      <td>0</td>\n",
       "    </tr>\n",
       "    <tr>\n",
       "      <th>7</th>\n",
       "      <td>12/14/2021</td>\n",
       "      <td>8:17</td>\n",
       "      <td>BRONX</td>\n",
       "      <td>10475.0</td>\n",
       "      <td>40.868160</td>\n",
       "      <td>-73.831480</td>\n",
       "      <td>NaN</td>\n",
       "      <td>NaN</td>\n",
       "      <td>344       BAYCHESTER AVENUE</td>\n",
       "      <td>Unspecified</td>\n",
       "      <td>Unspecified</td>\n",
       "      <td>Sedan</td>\n",
       "      <td>Sedan</td>\n",
       "      <td>1</td>\n",
       "    </tr>\n",
       "    <tr>\n",
       "      <th>...</th>\n",
       "      <td>...</td>\n",
       "      <td>...</td>\n",
       "      <td>...</td>\n",
       "      <td>...</td>\n",
       "      <td>...</td>\n",
       "      <td>...</td>\n",
       "      <td>...</td>\n",
       "      <td>...</td>\n",
       "      <td>...</td>\n",
       "      <td>...</td>\n",
       "      <td>...</td>\n",
       "      <td>...</td>\n",
       "      <td>...</td>\n",
       "      <td>...</td>\n",
       "    </tr>\n",
       "    <tr>\n",
       "      <th>1982061</th>\n",
       "      <td>04/04/2023</td>\n",
       "      <td>22:25</td>\n",
       "      <td>QUEENS</td>\n",
       "      <td>11377.0</td>\n",
       "      <td>40.749700</td>\n",
       "      <td>-73.902565</td>\n",
       "      <td>60 STREET</td>\n",
       "      <td>37 AVENUE</td>\n",
       "      <td>NaN</td>\n",
       "      <td>Driver Inattention/Distraction</td>\n",
       "      <td>Unspecified</td>\n",
       "      <td>Sedan</td>\n",
       "      <td>Sedan</td>\n",
       "      <td>1</td>\n",
       "    </tr>\n",
       "    <tr>\n",
       "      <th>1982063</th>\n",
       "      <td>04/03/2023</td>\n",
       "      <td>12:30</td>\n",
       "      <td>NaN</td>\n",
       "      <td>NaN</td>\n",
       "      <td>NaN</td>\n",
       "      <td>NaN</td>\n",
       "      <td>TRIBOROUGH BRIDGE</td>\n",
       "      <td>NaN</td>\n",
       "      <td>NaN</td>\n",
       "      <td>Unsafe Lane Changing</td>\n",
       "      <td>Unspecified</td>\n",
       "      <td>van</td>\n",
       "      <td>subn</td>\n",
       "      <td>0</td>\n",
       "    </tr>\n",
       "    <tr>\n",
       "      <th>1982064</th>\n",
       "      <td>04/04/2023</td>\n",
       "      <td>20:10</td>\n",
       "      <td>NaN</td>\n",
       "      <td>NaN</td>\n",
       "      <td>40.672382</td>\n",
       "      <td>-73.785740</td>\n",
       "      <td>BAISLEY BOULEVARD</td>\n",
       "      <td>NaN</td>\n",
       "      <td>NaN</td>\n",
       "      <td>Following Too Closely</td>\n",
       "      <td>Unspecified</td>\n",
       "      <td>Station Wagon/Sport Utility Vehicle</td>\n",
       "      <td>Sedan</td>\n",
       "      <td>0</td>\n",
       "    </tr>\n",
       "    <tr>\n",
       "      <th>1982065</th>\n",
       "      <td>03/29/2023</td>\n",
       "      <td>11:05</td>\n",
       "      <td>MANHATTAN</td>\n",
       "      <td>10011.0</td>\n",
       "      <td>40.735520</td>\n",
       "      <td>-73.993990</td>\n",
       "      <td>NaN</td>\n",
       "      <td>NaN</td>\n",
       "      <td>74        5 AVENUE</td>\n",
       "      <td>Driver Inattention/Distraction</td>\n",
       "      <td>Unspecified</td>\n",
       "      <td>E-Bike</td>\n",
       "      <td>Sedan</td>\n",
       "      <td>0</td>\n",
       "    </tr>\n",
       "    <tr>\n",
       "      <th>1982066</th>\n",
       "      <td>04/04/2023</td>\n",
       "      <td>20:50</td>\n",
       "      <td>MANHATTAN</td>\n",
       "      <td>10009.0</td>\n",
       "      <td>40.722275</td>\n",
       "      <td>-73.980180</td>\n",
       "      <td>EAST 4 STREET</td>\n",
       "      <td>AVENUE C</td>\n",
       "      <td>NaN</td>\n",
       "      <td>Failure to Yield Right-of-Way</td>\n",
       "      <td>Unspecified</td>\n",
       "      <td>Sedan</td>\n",
       "      <td>Bike</td>\n",
       "      <td>1</td>\n",
       "    </tr>\n",
       "  </tbody>\n",
       "</table>\n",
       "<p>1681979 rows × 14 columns</p>\n",
       "</div>"
      ],
      "text/plain": [
       "         crash_date crash_time    borough zip_code   latitude  longitude  \\\n",
       "0        09/11/2021       2:39        NaN      NaN        NaN        NaN   \n",
       "2        06/29/2022       6:55        NaN      NaN        NaN        NaN   \n",
       "5        04/14/2021      12:47        NaN      NaN        NaN        NaN   \n",
       "6        12/14/2021      17:05        NaN      NaN  40.709183 -73.956825   \n",
       "7        12/14/2021       8:17      BRONX  10475.0  40.868160 -73.831480   \n",
       "...             ...        ...        ...      ...        ...        ...   \n",
       "1982061  04/04/2023      22:25     QUEENS  11377.0  40.749700 -73.902565   \n",
       "1982063  04/03/2023      12:30        NaN      NaN        NaN        NaN   \n",
       "1982064  04/04/2023      20:10        NaN      NaN  40.672382 -73.785740   \n",
       "1982065  03/29/2023      11:05  MANHATTAN  10011.0  40.735520 -73.993990   \n",
       "1982066  04/04/2023      20:50  MANHATTAN  10009.0  40.722275 -73.980180   \n",
       "\n",
       "                       on_street_name cross_street_name  \\\n",
       "0               WHITESTONE EXPRESSWAY         20 AVENUE   \n",
       "2                  THROGS NECK BRIDGE               NaN   \n",
       "5        MAJOR DEEGAN EXPRESSWAY RAMP               NaN   \n",
       "6          BROOKLYN QUEENS EXPRESSWAY               NaN   \n",
       "7                                 NaN               NaN   \n",
       "...                               ...               ...   \n",
       "1982061                     60 STREET         37 AVENUE   \n",
       "1982063             TRIBOROUGH BRIDGE               NaN   \n",
       "1982064             BAISLEY BOULEVARD               NaN   \n",
       "1982065                           NaN               NaN   \n",
       "1982066                 EAST 4 STREET          AVENUE C   \n",
       "\n",
       "                     off_street_name   contributing_factor_vehicle_1  \\\n",
       "0                                NaN    Aggressive Driving/Road Rage   \n",
       "2                                NaN           Following Too Closely   \n",
       "5                                NaN                     Unspecified   \n",
       "6                                NaN             Passing Too Closely   \n",
       "7        344       BAYCHESTER AVENUE                     Unspecified   \n",
       "...                              ...                             ...   \n",
       "1982061                          NaN  Driver Inattention/Distraction   \n",
       "1982063                          NaN            Unsafe Lane Changing   \n",
       "1982064                          NaN           Following Too Closely   \n",
       "1982065           74        5 AVENUE  Driver Inattention/Distraction   \n",
       "1982066                          NaN   Failure to Yield Right-of-Way   \n",
       "\n",
       "        contributing_factor_vehicle_2                  vehicle_type_code_1  \\\n",
       "0                         Unspecified                                Sedan   \n",
       "2                         Unspecified                                Sedan   \n",
       "5                         Unspecified                                 Dump   \n",
       "6                         Unspecified                                Sedan   \n",
       "7                         Unspecified                                Sedan   \n",
       "...                               ...                                  ...   \n",
       "1982061                   Unspecified                                Sedan   \n",
       "1982063                   Unspecified                                  van   \n",
       "1982064                   Unspecified  Station Wagon/Sport Utility Vehicle   \n",
       "1982065                   Unspecified                               E-Bike   \n",
       "1982066                   Unspecified                                Sedan   \n",
       "\n",
       "          vehicle_type_code_2  people_got_injuried  \n",
       "0                       Sedan                    1  \n",
       "2               Pick-up Truck                    0  \n",
       "5                       Sedan                    0  \n",
       "6        Tractor Truck Diesel                    0  \n",
       "7                       Sedan                    1  \n",
       "...                       ...                  ...  \n",
       "1982061                 Sedan                    1  \n",
       "1982063                  subn                    0  \n",
       "1982064                 Sedan                    0  \n",
       "1982065                 Sedan                    0  \n",
       "1982066                  Bike                    1  \n",
       "\n",
       "[1681979 rows x 14 columns]"
      ]
     },
     "execution_count": 28,
     "metadata": {},
     "output_type": "execute_result"
    }
   ],
   "source": [
    "import pandas as pd\n",
    "import warnings\n",
    "warnings.filterwarnings('ignore')\n",
    "dados = pd.read_pickle('data.pkl')\n",
    "dados"
   ]
  },
  {
   "cell_type": "markdown",
   "id": "1d6d5675-6bd7-4992-afd6-0c984d4ddb56",
   "metadata": {},
   "source": [
    "# Verificar os atributos do dataframe\n"
   ]
  },
  {
   "cell_type": "code",
   "execution_count": 2,
   "id": "54cc8b18-1112-4cd4-971d-311de03f2761",
   "metadata": {},
   "outputs": [
    {
     "data": {
      "text/plain": [
       "01/21/2014    1047\n",
       "12/15/2017     873\n",
       "11/15/2018     858\n",
       "05/19/2017     849\n",
       "03/06/2015     844\n",
       "              ... \n",
       "04/12/2020      78\n",
       "04/09/2020      77\n",
       "04/19/2020      72\n",
       "04/21/2020      72\n",
       "04/05/2020      63\n",
       "Name: crash_date, Length: 3930, dtype: int64"
      ]
     },
     "execution_count": 2,
     "metadata": {},
     "output_type": "execute_result"
    }
   ],
   "source": [
    "dados.crash_date.value_counts()"
   ]
  },
  {
   "cell_type": "code",
   "execution_count": 3,
   "id": "9bf09737-7546-44a8-b526-538c97007997",
   "metadata": {},
   "outputs": [
    {
     "data": {
      "text/plain": [
       "16:00    24039\n",
       "17:00    23324\n",
       "15:00    22979\n",
       "18:00    21378\n",
       "14:00    21324\n",
       "         ...  \n",
       "3:59        69\n",
       "4:02        66\n",
       "3:31        65\n",
       "3:34        63\n",
       "3:51        63\n",
       "Name: crash_time, Length: 1440, dtype: int64"
      ]
     },
     "execution_count": 3,
     "metadata": {},
     "output_type": "execute_result"
    }
   ],
   "source": [
    "dados.crash_time.value_counts()"
   ]
  },
  {
   "cell_type": "code",
   "execution_count": 4,
   "id": "2da330df-33b5-49ce-9adc-09c503ebed93",
   "metadata": {},
   "outputs": [
    {
     "data": {
      "text/plain": [
       "BROOKLYN         361997\n",
       "QUEENS           311188\n",
       "MANHATTAN        263169\n",
       "BRONX            163001\n",
       "STATEN ISLAND     47978\n",
       "Name: borough, dtype: int64"
      ]
     },
     "execution_count": 4,
     "metadata": {},
     "output_type": "execute_result"
    }
   ],
   "source": [
    "dados.borough.value_counts()"
   ]
  },
  {
   "cell_type": "code",
   "execution_count": 5,
   "id": "acadbb70-6d67-4df9-b08e-3338ad88e995",
   "metadata": {},
   "outputs": [
    {
     "data": {
      "text/plain": [
       "11207.0    15714\n",
       "11236.0    11225\n",
       "11234.0    10819\n",
       "11101.0    10701\n",
       "11203.0    10414\n",
       "           ...  \n",
       "10153          1\n",
       "10166.0        1\n",
       "10055.0        1\n",
       "11241.0        1\n",
       "10122.0        1\n",
       "Name: zip_code, Length: 423, dtype: int64"
      ]
     },
     "execution_count": 5,
     "metadata": {},
     "output_type": "execute_result"
    }
   ],
   "source": [
    "dados.zip_code.value_counts()"
   ]
  },
  {
   "cell_type": "code",
   "execution_count": 53,
   "id": "8c4bb36b-aeb4-4d20-8358-ac0fee05ca5b",
   "metadata": {},
   "outputs": [
    {
     "data": {
      "text/plain": [
       "BROADWAY                            14698\n",
       "ATLANTIC AVENUE                     13829\n",
       "BELT PARKWAY                        12136\n",
       "3 AVENUE                            10948\n",
       "NORTHERN BOULEVARD                  10946\n",
       "                                    ...  \n",
       "bruckner expressway                     1\n",
       "FERN AVENUE                             1\n",
       "POWELLS COVE                            1\n",
       "W 31 ST                                 1\n",
       "KATAN AVENUE                            1\n",
       "Name: on_street_name, Length: 16342, dtype: int64"
      ]
     },
     "execution_count": 53,
     "metadata": {},
     "output_type": "execute_result"
    }
   ],
   "source": [
    "dados.on_street_name.value_counts()"
   ]
  },
  {
   "cell_type": "code",
   "execution_count": 56,
   "id": "82c6a829-4eda-4421-9671-d776064901fb",
   "metadata": {},
   "outputs": [
    {
     "data": {
      "text/plain": [
       "772       EDGEWATER ROAD                    344\n",
       "110-00    ROCKAWAY BOULEVARD                206\n",
       "2800      VICTORY BOULEVARD                 201\n",
       "2655      RICHMOND AVENUE                   143\n",
       "450       FLATBUSH AVENUE                   137\n",
       "                                           ... \n",
       "3436      EDSON AVENUE                        1\n",
       "3218      CRUGER AVENUE                       1\n",
       "120-12    238 STREET                          1\n",
       "91-59     120 STREET                          1\n",
       "657       WARREN STREET                       1\n",
       "Name: off_street_name, Length: 168021, dtype: int64"
      ]
     },
     "execution_count": 56,
     "metadata": {},
     "output_type": "execute_result"
    }
   ],
   "source": [
    "dados.off_street_name.value_counts()\n"
   ]
  },
  {
   "cell_type": "code",
   "execution_count": 7,
   "id": "20353b51-fbdb-4dfc-9901-7e58058c6397",
   "metadata": {},
   "outputs": [
    {
     "data": {
      "text/plain": [
       "0.000000     3231\n",
       "40.861862     747\n",
       "40.696033     677\n",
       "40.608757     644\n",
       "40.804700     620\n",
       "             ... \n",
       "40.893185       1\n",
       "40.818665       1\n",
       "40.863350       1\n",
       "40.779957       1\n",
       "40.823555       1\n",
       "Name: latitude, Length: 118651, dtype: int64"
      ]
     },
     "execution_count": 7,
     "metadata": {},
     "output_type": "execute_result"
    }
   ],
   "source": [
    "dados.latitude.value_counts()"
   ]
  },
  {
   "cell_type": "code",
   "execution_count": 8,
   "id": "8250b3cd-ad53-422c-bdca-aef61a506a74",
   "metadata": {},
   "outputs": [
    {
     "data": {
      "text/plain": [
       " 0.000000     3231\n",
       "-73.984530     655\n",
       "-73.912820     655\n",
       "-74.038086     644\n",
       "-73.890630     623\n",
       "              ... \n",
       "-73.946375       1\n",
       "-73.878730       1\n",
       "-73.751049       1\n",
       "-74.136041       1\n",
       "-73.774340       1\n",
       "Name: longitude, Length: 92879, dtype: int64"
      ]
     },
     "execution_count": 8,
     "metadata": {},
     "output_type": "execute_result"
    }
   ],
   "source": [
    "dados.longitude.value_counts()"
   ]
  },
  {
   "cell_type": "code",
   "execution_count": 9,
   "id": "2df50ff4-483f-460e-bdbd-3702c5aec078",
   "metadata": {},
   "outputs": [
    {
     "data": {
      "text/plain": [
       "3 AVENUE                            8678\n",
       "BROADWAY                            8185\n",
       "2 AVENUE                            7567\n",
       "5 AVENUE                            6112\n",
       "7 AVENUE                            5818\n",
       "                                    ... \n",
       "50avenue                               1\n",
       "east 52 street                         1\n",
       "SHORTHILL ROAD                         1\n",
       "TAPPEN COURT                           1\n",
       "East 60                                1\n",
       "Name: cross_street_name, Length: 18726, dtype: int64"
      ]
     },
     "execution_count": 9,
     "metadata": {},
     "output_type": "execute_result"
    }
   ],
   "source": [
    "dados.cross_street_name.value_counts()"
   ]
  },
  {
   "cell_type": "code",
   "execution_count": 11,
   "id": "8f31c180-3db6-4f5b-993f-83f7342a189f",
   "metadata": {},
   "outputs": [
    {
     "data": {
      "text/plain": [
       "Unspecified                       516646\n",
       "Driver Inattention/Distraction    356159\n",
       "Following Too Closely             104168\n",
       "Failure to Yield Right-of-Way      95272\n",
       "Backing Unsafely                   66965\n",
       "                                   ...  \n",
       "80                                    61\n",
       "Shoulders Defective/Improper          55\n",
       "Texting                               44\n",
       "Listening/Using Headphones            24\n",
       "1                                      9\n",
       "Name: contributing_factor_vehicle_1, Length: 61, dtype: int64"
      ]
     },
     "execution_count": 11,
     "metadata": {},
     "output_type": "execute_result"
    }
   ],
   "source": [
    "dados.contributing_factor_vehicle_1.value_counts()"
   ]
  },
  {
   "cell_type": "code",
   "execution_count": 12,
   "id": "e3991c83-8089-41e6-8257-4cc7b46d7357",
   "metadata": {},
   "outputs": [
    {
     "data": {
      "text/plain": [
       "Unspecified                       1416172\n",
       "Driver Inattention/Distraction      90012\n",
       "Other Vehicular                     30922\n",
       "Following Too Closely               17884\n",
       "Failure to Yield Right-of-Way       16527\n",
       "                                   ...   \n",
       "Listening/Using Headphones             10\n",
       "Eating or Drinking                      9\n",
       "Windshield Inadequate                   7\n",
       "1                                       5\n",
       "Texting                                 3\n",
       "Name: contributing_factor_vehicle_2, Length: 61, dtype: int64"
      ]
     },
     "execution_count": 12,
     "metadata": {},
     "output_type": "execute_result"
    }
   ],
   "source": [
    "dados.contributing_factor_vehicle_2.value_counts()"
   ]
  },
  {
   "cell_type": "code",
   "execution_count": 13,
   "id": "61add8d5-8041-4cd6-9574-097f695be150",
   "metadata": {},
   "outputs": [
    {
     "data": {
      "text/plain": [
       "Sedan                                  441081\n",
       "PASSENGER VEHICLE                      370175\n",
       "Station Wagon/Sport Utility Vehicle    353980\n",
       "SPORT UTILITY / STATION WAGON          160293\n",
       "Taxi                                    42336\n",
       "                                        ...  \n",
       "FDNY EMS V                                  1\n",
       "suburban                                    1\n",
       "OMS                                         1\n",
       "RV/VAN                                      1\n",
       "Govt P/U T                                  1\n",
       "Name: vehicle_type_code_1, Length: 1324, dtype: int64"
      ]
     },
     "execution_count": 13,
     "metadata": {},
     "output_type": "execute_result"
    }
   ],
   "source": [
    "dados.vehicle_type_code_1.value_counts()"
   ]
  },
  {
   "cell_type": "code",
   "execution_count": 14,
   "id": "a09c6097-bfc8-442d-93c9-ac5ebd6722a6",
   "metadata": {},
   "outputs": [
    {
     "data": {
      "text/plain": [
       "Sedan                                  376089\n",
       "PASSENGER VEHICLE                      312249\n",
       "Station Wagon/Sport Utility Vehicle    305694\n",
       "SPORT UTILITY / STATION WAGON          136828\n",
       "UNKNOWN                                 79034\n",
       "                                        ...  \n",
       "UPS Van                                     1\n",
       "Ambiance                                    1\n",
       "revel                                       1\n",
       "12 PASS VA                                  1\n",
       "FORD TWO T                                  1\n",
       "Name: vehicle_type_code_2, Length: 1646, dtype: int64"
      ]
     },
     "execution_count": 14,
     "metadata": {},
     "output_type": "execute_result"
    }
   ],
   "source": [
    "dados.vehicle_type_code_2.value_counts()"
   ]
  },
  {
   "cell_type": "code",
   "execution_count": 23,
   "id": "e801bde5-f26c-4f74-b78c-143679c23d47",
   "metadata": {},
   "outputs": [
    {
     "data": {
      "text/plain": [
       "0    1375979\n",
       "1     306000\n",
       "Name: people_got_injuried, dtype: int64"
      ]
     },
     "execution_count": 23,
     "metadata": {},
     "output_type": "execute_result"
    }
   ],
   "source": [
    "dados.people_got_injuried.value_counts()"
   ]
  },
  {
   "cell_type": "markdown",
   "id": "6c9f62ea-dd51-4f00-8b7a-34f6bb3e55ed",
   "metadata": {},
   "source": [
    "# Limpeza dos dados\n"
   ]
  },
  {
   "cell_type": "code",
   "execution_count": 29,
   "id": "6b438813-b1b6-46c3-b555-faca2b74fb0f",
   "metadata": {},
   "outputs": [],
   "source": [
    "dados = dados.drop(['crash_date', 'crash_time', 'latitude', 'longitude'], axis=1)"
   ]
  },
  {
   "cell_type": "code",
   "execution_count": 30,
   "id": "5c80b4e6-1575-41c9-b38e-978a5eac6ddd",
   "metadata": {},
   "outputs": [
    {
     "data": {
      "text/html": [
       "<div>\n",
       "<style scoped>\n",
       "    .dataframe tbody tr th:only-of-type {\n",
       "        vertical-align: middle;\n",
       "    }\n",
       "\n",
       "    .dataframe tbody tr th {\n",
       "        vertical-align: top;\n",
       "    }\n",
       "\n",
       "    .dataframe thead th {\n",
       "        text-align: right;\n",
       "    }\n",
       "</style>\n",
       "<table border=\"1\" class=\"dataframe\">\n",
       "  <thead>\n",
       "    <tr style=\"text-align: right;\">\n",
       "      <th></th>\n",
       "      <th>borough</th>\n",
       "      <th>zip_code</th>\n",
       "      <th>on_street_name</th>\n",
       "      <th>cross_street_name</th>\n",
       "      <th>off_street_name</th>\n",
       "      <th>contributing_factor_vehicle_1</th>\n",
       "      <th>contributing_factor_vehicle_2</th>\n",
       "      <th>vehicle_type_code_1</th>\n",
       "      <th>vehicle_type_code_2</th>\n",
       "      <th>people_got_injuried</th>\n",
       "    </tr>\n",
       "  </thead>\n",
       "  <tbody>\n",
       "    <tr>\n",
       "      <th>0</th>\n",
       "      <td>NaN</td>\n",
       "      <td>NaN</td>\n",
       "      <td>WHITESTONE EXPRESSWAY</td>\n",
       "      <td>20 AVENUE</td>\n",
       "      <td>NaN</td>\n",
       "      <td>Aggressive Driving/Road Rage</td>\n",
       "      <td>Unspecified</td>\n",
       "      <td>Sedan</td>\n",
       "      <td>Sedan</td>\n",
       "      <td>1</td>\n",
       "    </tr>\n",
       "    <tr>\n",
       "      <th>2</th>\n",
       "      <td>NaN</td>\n",
       "      <td>NaN</td>\n",
       "      <td>THROGS NECK BRIDGE</td>\n",
       "      <td>NaN</td>\n",
       "      <td>NaN</td>\n",
       "      <td>Following Too Closely</td>\n",
       "      <td>Unspecified</td>\n",
       "      <td>Sedan</td>\n",
       "      <td>Pick-up Truck</td>\n",
       "      <td>0</td>\n",
       "    </tr>\n",
       "    <tr>\n",
       "      <th>5</th>\n",
       "      <td>NaN</td>\n",
       "      <td>NaN</td>\n",
       "      <td>MAJOR DEEGAN EXPRESSWAY RAMP</td>\n",
       "      <td>NaN</td>\n",
       "      <td>NaN</td>\n",
       "      <td>Unspecified</td>\n",
       "      <td>Unspecified</td>\n",
       "      <td>Dump</td>\n",
       "      <td>Sedan</td>\n",
       "      <td>0</td>\n",
       "    </tr>\n",
       "    <tr>\n",
       "      <th>6</th>\n",
       "      <td>NaN</td>\n",
       "      <td>NaN</td>\n",
       "      <td>BROOKLYN QUEENS EXPRESSWAY</td>\n",
       "      <td>NaN</td>\n",
       "      <td>NaN</td>\n",
       "      <td>Passing Too Closely</td>\n",
       "      <td>Unspecified</td>\n",
       "      <td>Sedan</td>\n",
       "      <td>Tractor Truck Diesel</td>\n",
       "      <td>0</td>\n",
       "    </tr>\n",
       "    <tr>\n",
       "      <th>7</th>\n",
       "      <td>BRONX</td>\n",
       "      <td>10475.0</td>\n",
       "      <td>NaN</td>\n",
       "      <td>NaN</td>\n",
       "      <td>344       BAYCHESTER AVENUE</td>\n",
       "      <td>Unspecified</td>\n",
       "      <td>Unspecified</td>\n",
       "      <td>Sedan</td>\n",
       "      <td>Sedan</td>\n",
       "      <td>1</td>\n",
       "    </tr>\n",
       "    <tr>\n",
       "      <th>...</th>\n",
       "      <td>...</td>\n",
       "      <td>...</td>\n",
       "      <td>...</td>\n",
       "      <td>...</td>\n",
       "      <td>...</td>\n",
       "      <td>...</td>\n",
       "      <td>...</td>\n",
       "      <td>...</td>\n",
       "      <td>...</td>\n",
       "      <td>...</td>\n",
       "    </tr>\n",
       "    <tr>\n",
       "      <th>1982061</th>\n",
       "      <td>QUEENS</td>\n",
       "      <td>11377.0</td>\n",
       "      <td>60 STREET</td>\n",
       "      <td>37 AVENUE</td>\n",
       "      <td>NaN</td>\n",
       "      <td>Driver Inattention/Distraction</td>\n",
       "      <td>Unspecified</td>\n",
       "      <td>Sedan</td>\n",
       "      <td>Sedan</td>\n",
       "      <td>1</td>\n",
       "    </tr>\n",
       "    <tr>\n",
       "      <th>1982063</th>\n",
       "      <td>NaN</td>\n",
       "      <td>NaN</td>\n",
       "      <td>TRIBOROUGH BRIDGE</td>\n",
       "      <td>NaN</td>\n",
       "      <td>NaN</td>\n",
       "      <td>Unsafe Lane Changing</td>\n",
       "      <td>Unspecified</td>\n",
       "      <td>van</td>\n",
       "      <td>subn</td>\n",
       "      <td>0</td>\n",
       "    </tr>\n",
       "    <tr>\n",
       "      <th>1982064</th>\n",
       "      <td>NaN</td>\n",
       "      <td>NaN</td>\n",
       "      <td>BAISLEY BOULEVARD</td>\n",
       "      <td>NaN</td>\n",
       "      <td>NaN</td>\n",
       "      <td>Following Too Closely</td>\n",
       "      <td>Unspecified</td>\n",
       "      <td>Station Wagon/Sport Utility Vehicle</td>\n",
       "      <td>Sedan</td>\n",
       "      <td>0</td>\n",
       "    </tr>\n",
       "    <tr>\n",
       "      <th>1982065</th>\n",
       "      <td>MANHATTAN</td>\n",
       "      <td>10011.0</td>\n",
       "      <td>NaN</td>\n",
       "      <td>NaN</td>\n",
       "      <td>74        5 AVENUE</td>\n",
       "      <td>Driver Inattention/Distraction</td>\n",
       "      <td>Unspecified</td>\n",
       "      <td>E-Bike</td>\n",
       "      <td>Sedan</td>\n",
       "      <td>0</td>\n",
       "    </tr>\n",
       "    <tr>\n",
       "      <th>1982066</th>\n",
       "      <td>MANHATTAN</td>\n",
       "      <td>10009.0</td>\n",
       "      <td>EAST 4 STREET</td>\n",
       "      <td>AVENUE C</td>\n",
       "      <td>NaN</td>\n",
       "      <td>Failure to Yield Right-of-Way</td>\n",
       "      <td>Unspecified</td>\n",
       "      <td>Sedan</td>\n",
       "      <td>Bike</td>\n",
       "      <td>1</td>\n",
       "    </tr>\n",
       "  </tbody>\n",
       "</table>\n",
       "<p>1681979 rows × 10 columns</p>\n",
       "</div>"
      ],
      "text/plain": [
       "           borough zip_code                on_street_name cross_street_name  \\\n",
       "0              NaN      NaN         WHITESTONE EXPRESSWAY         20 AVENUE   \n",
       "2              NaN      NaN            THROGS NECK BRIDGE               NaN   \n",
       "5              NaN      NaN  MAJOR DEEGAN EXPRESSWAY RAMP               NaN   \n",
       "6              NaN      NaN    BROOKLYN QUEENS EXPRESSWAY               NaN   \n",
       "7            BRONX  10475.0                           NaN               NaN   \n",
       "...            ...      ...                           ...               ...   \n",
       "1982061     QUEENS  11377.0                     60 STREET         37 AVENUE   \n",
       "1982063        NaN      NaN             TRIBOROUGH BRIDGE               NaN   \n",
       "1982064        NaN      NaN             BAISLEY BOULEVARD               NaN   \n",
       "1982065  MANHATTAN  10011.0                           NaN               NaN   \n",
       "1982066  MANHATTAN  10009.0                 EAST 4 STREET          AVENUE C   \n",
       "\n",
       "                     off_street_name   contributing_factor_vehicle_1  \\\n",
       "0                                NaN    Aggressive Driving/Road Rage   \n",
       "2                                NaN           Following Too Closely   \n",
       "5                                NaN                     Unspecified   \n",
       "6                                NaN             Passing Too Closely   \n",
       "7        344       BAYCHESTER AVENUE                     Unspecified   \n",
       "...                              ...                             ...   \n",
       "1982061                          NaN  Driver Inattention/Distraction   \n",
       "1982063                          NaN            Unsafe Lane Changing   \n",
       "1982064                          NaN           Following Too Closely   \n",
       "1982065           74        5 AVENUE  Driver Inattention/Distraction   \n",
       "1982066                          NaN   Failure to Yield Right-of-Way   \n",
       "\n",
       "        contributing_factor_vehicle_2                  vehicle_type_code_1  \\\n",
       "0                         Unspecified                                Sedan   \n",
       "2                         Unspecified                                Sedan   \n",
       "5                         Unspecified                                 Dump   \n",
       "6                         Unspecified                                Sedan   \n",
       "7                         Unspecified                                Sedan   \n",
       "...                               ...                                  ...   \n",
       "1982061                   Unspecified                                Sedan   \n",
       "1982063                   Unspecified                                  van   \n",
       "1982064                   Unspecified  Station Wagon/Sport Utility Vehicle   \n",
       "1982065                   Unspecified                               E-Bike   \n",
       "1982066                   Unspecified                                Sedan   \n",
       "\n",
       "          vehicle_type_code_2  people_got_injuried  \n",
       "0                       Sedan                    1  \n",
       "2               Pick-up Truck                    0  \n",
       "5                       Sedan                    0  \n",
       "6        Tractor Truck Diesel                    0  \n",
       "7                       Sedan                    1  \n",
       "...                       ...                  ...  \n",
       "1982061                 Sedan                    1  \n",
       "1982063                  subn                    0  \n",
       "1982064                 Sedan                    0  \n",
       "1982065                 Sedan                    0  \n",
       "1982066                  Bike                    1  \n",
       "\n",
       "[1681979 rows x 10 columns]"
      ]
     },
     "execution_count": 30,
     "metadata": {},
     "output_type": "execute_result"
    }
   ],
   "source": [
    "dados"
   ]
  },
  {
   "cell_type": "markdown",
   "id": "779d5b1d-6bcf-4f87-97bd-626d0cb098e7",
   "metadata": {},
   "source": [
    "# Remoção de dados\n",
    "## Realizamos a remoção dos dados preenchendo os dados faltantes com dados mais utilizados\n"
   ]
  },
  {
   "cell_type": "code",
   "execution_count": 31,
   "id": "3f22c8a9-77e3-4347-8454-2f343d2b5fb2",
   "metadata": {},
   "outputs": [
    {
     "name": "stdout",
     "output_type": "stream",
     "text": [
      "borough                           534646\n",
      "zip_code                          534845\n",
      "on_street_name                    333155\n",
      "cross_street_name                 610517\n",
      "off_street_name                  1432151\n",
      "contributing_factor_vehicle_1          0\n",
      "contributing_factor_vehicle_2          0\n",
      "vehicle_type_code_1                 2671\n",
      "vehicle_type_code_2                91361\n",
      "people_got_injuried                    0\n",
      "dtype: int64\n"
     ]
    }
   ],
   "source": [
    "print(dados.isna().sum())"
   ]
  },
  {
   "cell_type": "code",
   "execution_count": 32,
   "id": "19112e59-4f55-4eb7-82f7-2dda6aab04ac",
   "metadata": {},
   "outputs": [],
   "source": [
    "dados['borough'] = dados['borough'].fillna(dados['borough'].mode()[0])\n",
    "dados['zip_code'] = dados['zip_code'].fillna(dados['zip_code'].mode()[0])\n",
    "dados['on_street_name'] = dados['on_street_name'].fillna(dados['on_street_name'].mode()[0])\n",
    "dados['cross_street_name'] = dados['cross_street_name'].fillna(dados['cross_street_name'].mode()[0])\n",
    "dados['off_street_name'] = dados['off_street_name'].fillna(dados['off_street_name'].mode()[0])\n",
    "dados['vehicle_type_code_1'] = dados['vehicle_type_code_1'].fillna(dados['vehicle_type_code_1'].mode()[0])\n",
    "dados['vehicle_type_code_2'] = dados['vehicle_type_code_2'].fillna(dados['vehicle_type_code_2'].mode()[0])"
   ]
  },
  {
   "cell_type": "markdown",
   "id": "d8bfdbe1-c1b7-4ca1-a1b5-a7a3acc35ba6",
   "metadata": {},
   "source": [
    "### Mostrando que não existe mais campos vazio"
   ]
  },
  {
   "cell_type": "code",
   "execution_count": 33,
   "id": "09366eb2-9ceb-4815-93ad-6380e02f94ad",
   "metadata": {},
   "outputs": [
    {
     "name": "stdout",
     "output_type": "stream",
     "text": [
      "borough                          0\n",
      "zip_code                         0\n",
      "on_street_name                   0\n",
      "cross_street_name                0\n",
      "off_street_name                  0\n",
      "contributing_factor_vehicle_1    0\n",
      "contributing_factor_vehicle_2    0\n",
      "vehicle_type_code_1              0\n",
      "vehicle_type_code_2              0\n",
      "people_got_injuried              0\n",
      "dtype: int64\n"
     ]
    }
   ],
   "source": [
    "print(dados.isna().sum())"
   ]
  },
  {
   "cell_type": "code",
   "execution_count": 34,
   "id": "342db18c-7e2f-4c81-bcb4-78a06867d8f1",
   "metadata": {},
   "outputs": [
    {
     "data": {
      "text/html": [
       "<div>\n",
       "<style scoped>\n",
       "    .dataframe tbody tr th:only-of-type {\n",
       "        vertical-align: middle;\n",
       "    }\n",
       "\n",
       "    .dataframe tbody tr th {\n",
       "        vertical-align: top;\n",
       "    }\n",
       "\n",
       "    .dataframe thead th {\n",
       "        text-align: right;\n",
       "    }\n",
       "</style>\n",
       "<table border=\"1\" class=\"dataframe\">\n",
       "  <thead>\n",
       "    <tr style=\"text-align: right;\">\n",
       "      <th></th>\n",
       "      <th>borough</th>\n",
       "      <th>zip_code</th>\n",
       "      <th>on_street_name</th>\n",
       "      <th>cross_street_name</th>\n",
       "      <th>off_street_name</th>\n",
       "      <th>contributing_factor_vehicle_1</th>\n",
       "      <th>contributing_factor_vehicle_2</th>\n",
       "      <th>vehicle_type_code_1</th>\n",
       "      <th>vehicle_type_code_2</th>\n",
       "      <th>people_got_injuried</th>\n",
       "    </tr>\n",
       "  </thead>\n",
       "  <tbody>\n",
       "    <tr>\n",
       "      <th>0</th>\n",
       "      <td>BROOKLYN</td>\n",
       "      <td>11207.0</td>\n",
       "      <td>WHITESTONE EXPRESSWAY</td>\n",
       "      <td>20 AVENUE</td>\n",
       "      <td>772       EDGEWATER ROAD</td>\n",
       "      <td>Aggressive Driving/Road Rage</td>\n",
       "      <td>Unspecified</td>\n",
       "      <td>Sedan</td>\n",
       "      <td>Sedan</td>\n",
       "      <td>1</td>\n",
       "    </tr>\n",
       "    <tr>\n",
       "      <th>2</th>\n",
       "      <td>BROOKLYN</td>\n",
       "      <td>11207.0</td>\n",
       "      <td>THROGS NECK BRIDGE</td>\n",
       "      <td>3 AVENUE</td>\n",
       "      <td>772       EDGEWATER ROAD</td>\n",
       "      <td>Following Too Closely</td>\n",
       "      <td>Unspecified</td>\n",
       "      <td>Sedan</td>\n",
       "      <td>Pick-up Truck</td>\n",
       "      <td>0</td>\n",
       "    </tr>\n",
       "    <tr>\n",
       "      <th>5</th>\n",
       "      <td>BROOKLYN</td>\n",
       "      <td>11207.0</td>\n",
       "      <td>MAJOR DEEGAN EXPRESSWAY RAMP</td>\n",
       "      <td>3 AVENUE</td>\n",
       "      <td>772       EDGEWATER ROAD</td>\n",
       "      <td>Unspecified</td>\n",
       "      <td>Unspecified</td>\n",
       "      <td>Dump</td>\n",
       "      <td>Sedan</td>\n",
       "      <td>0</td>\n",
       "    </tr>\n",
       "    <tr>\n",
       "      <th>6</th>\n",
       "      <td>BROOKLYN</td>\n",
       "      <td>11207.0</td>\n",
       "      <td>BROOKLYN QUEENS EXPRESSWAY</td>\n",
       "      <td>3 AVENUE</td>\n",
       "      <td>772       EDGEWATER ROAD</td>\n",
       "      <td>Passing Too Closely</td>\n",
       "      <td>Unspecified</td>\n",
       "      <td>Sedan</td>\n",
       "      <td>Tractor Truck Diesel</td>\n",
       "      <td>0</td>\n",
       "    </tr>\n",
       "    <tr>\n",
       "      <th>7</th>\n",
       "      <td>BRONX</td>\n",
       "      <td>10475.0</td>\n",
       "      <td>BROADWAY</td>\n",
       "      <td>3 AVENUE</td>\n",
       "      <td>344       BAYCHESTER AVENUE</td>\n",
       "      <td>Unspecified</td>\n",
       "      <td>Unspecified</td>\n",
       "      <td>Sedan</td>\n",
       "      <td>Sedan</td>\n",
       "      <td>1</td>\n",
       "    </tr>\n",
       "    <tr>\n",
       "      <th>...</th>\n",
       "      <td>...</td>\n",
       "      <td>...</td>\n",
       "      <td>...</td>\n",
       "      <td>...</td>\n",
       "      <td>...</td>\n",
       "      <td>...</td>\n",
       "      <td>...</td>\n",
       "      <td>...</td>\n",
       "      <td>...</td>\n",
       "      <td>...</td>\n",
       "    </tr>\n",
       "    <tr>\n",
       "      <th>1982061</th>\n",
       "      <td>QUEENS</td>\n",
       "      <td>11377.0</td>\n",
       "      <td>60 STREET</td>\n",
       "      <td>37 AVENUE</td>\n",
       "      <td>772       EDGEWATER ROAD</td>\n",
       "      <td>Driver Inattention/Distraction</td>\n",
       "      <td>Unspecified</td>\n",
       "      <td>Sedan</td>\n",
       "      <td>Sedan</td>\n",
       "      <td>1</td>\n",
       "    </tr>\n",
       "    <tr>\n",
       "      <th>1982063</th>\n",
       "      <td>BROOKLYN</td>\n",
       "      <td>11207.0</td>\n",
       "      <td>TRIBOROUGH BRIDGE</td>\n",
       "      <td>3 AVENUE</td>\n",
       "      <td>772       EDGEWATER ROAD</td>\n",
       "      <td>Unsafe Lane Changing</td>\n",
       "      <td>Unspecified</td>\n",
       "      <td>van</td>\n",
       "      <td>subn</td>\n",
       "      <td>0</td>\n",
       "    </tr>\n",
       "    <tr>\n",
       "      <th>1982064</th>\n",
       "      <td>BROOKLYN</td>\n",
       "      <td>11207.0</td>\n",
       "      <td>BAISLEY BOULEVARD</td>\n",
       "      <td>3 AVENUE</td>\n",
       "      <td>772       EDGEWATER ROAD</td>\n",
       "      <td>Following Too Closely</td>\n",
       "      <td>Unspecified</td>\n",
       "      <td>Station Wagon/Sport Utility Vehicle</td>\n",
       "      <td>Sedan</td>\n",
       "      <td>0</td>\n",
       "    </tr>\n",
       "    <tr>\n",
       "      <th>1982065</th>\n",
       "      <td>MANHATTAN</td>\n",
       "      <td>10011.0</td>\n",
       "      <td>BROADWAY</td>\n",
       "      <td>3 AVENUE</td>\n",
       "      <td>74        5 AVENUE</td>\n",
       "      <td>Driver Inattention/Distraction</td>\n",
       "      <td>Unspecified</td>\n",
       "      <td>E-Bike</td>\n",
       "      <td>Sedan</td>\n",
       "      <td>0</td>\n",
       "    </tr>\n",
       "    <tr>\n",
       "      <th>1982066</th>\n",
       "      <td>MANHATTAN</td>\n",
       "      <td>10009.0</td>\n",
       "      <td>EAST 4 STREET</td>\n",
       "      <td>AVENUE C</td>\n",
       "      <td>772       EDGEWATER ROAD</td>\n",
       "      <td>Failure to Yield Right-of-Way</td>\n",
       "      <td>Unspecified</td>\n",
       "      <td>Sedan</td>\n",
       "      <td>Bike</td>\n",
       "      <td>1</td>\n",
       "    </tr>\n",
       "  </tbody>\n",
       "</table>\n",
       "<p>1681979 rows × 10 columns</p>\n",
       "</div>"
      ],
      "text/plain": [
       "           borough zip_code                    on_street_name  \\\n",
       "0         BROOKLYN  11207.0             WHITESTONE EXPRESSWAY   \n",
       "2         BROOKLYN  11207.0                THROGS NECK BRIDGE   \n",
       "5         BROOKLYN  11207.0      MAJOR DEEGAN EXPRESSWAY RAMP   \n",
       "6         BROOKLYN  11207.0        BROOKLYN QUEENS EXPRESSWAY   \n",
       "7            BRONX  10475.0  BROADWAY                           \n",
       "...            ...      ...                               ...   \n",
       "1982061     QUEENS  11377.0                         60 STREET   \n",
       "1982063   BROOKLYN  11207.0                 TRIBOROUGH BRIDGE   \n",
       "1982064   BROOKLYN  11207.0                 BAISLEY BOULEVARD   \n",
       "1982065  MANHATTAN  10011.0  BROADWAY                           \n",
       "1982066  MANHATTAN  10009.0                     EAST 4 STREET   \n",
       "\n",
       "                        cross_street_name  \\\n",
       "0                               20 AVENUE   \n",
       "2        3 AVENUE                           \n",
       "5        3 AVENUE                           \n",
       "6        3 AVENUE                           \n",
       "7        3 AVENUE                           \n",
       "...                                   ...   \n",
       "1982061                         37 AVENUE   \n",
       "1982063  3 AVENUE                           \n",
       "1982064  3 AVENUE                           \n",
       "1982065  3 AVENUE                           \n",
       "1982066                          AVENUE C   \n",
       "\n",
       "                                  off_street_name  \\\n",
       "0        772       EDGEWATER ROAD                   \n",
       "2        772       EDGEWATER ROAD                   \n",
       "5        772       EDGEWATER ROAD                   \n",
       "6        772       EDGEWATER ROAD                   \n",
       "7                     344       BAYCHESTER AVENUE   \n",
       "...                                           ...   \n",
       "1982061  772       EDGEWATER ROAD                   \n",
       "1982063  772       EDGEWATER ROAD                   \n",
       "1982064  772       EDGEWATER ROAD                   \n",
       "1982065                        74        5 AVENUE   \n",
       "1982066  772       EDGEWATER ROAD                   \n",
       "\n",
       "          contributing_factor_vehicle_1 contributing_factor_vehicle_2  \\\n",
       "0          Aggressive Driving/Road Rage                   Unspecified   \n",
       "2                 Following Too Closely                   Unspecified   \n",
       "5                           Unspecified                   Unspecified   \n",
       "6                   Passing Too Closely                   Unspecified   \n",
       "7                           Unspecified                   Unspecified   \n",
       "...                                 ...                           ...   \n",
       "1982061  Driver Inattention/Distraction                   Unspecified   \n",
       "1982063            Unsafe Lane Changing                   Unspecified   \n",
       "1982064           Following Too Closely                   Unspecified   \n",
       "1982065  Driver Inattention/Distraction                   Unspecified   \n",
       "1982066   Failure to Yield Right-of-Way                   Unspecified   \n",
       "\n",
       "                         vehicle_type_code_1   vehicle_type_code_2  \\\n",
       "0                                      Sedan                 Sedan   \n",
       "2                                      Sedan         Pick-up Truck   \n",
       "5                                       Dump                 Sedan   \n",
       "6                                      Sedan  Tractor Truck Diesel   \n",
       "7                                      Sedan                 Sedan   \n",
       "...                                      ...                   ...   \n",
       "1982061                                Sedan                 Sedan   \n",
       "1982063                                  van                  subn   \n",
       "1982064  Station Wagon/Sport Utility Vehicle                 Sedan   \n",
       "1982065                               E-Bike                 Sedan   \n",
       "1982066                                Sedan                  Bike   \n",
       "\n",
       "         people_got_injuried  \n",
       "0                          1  \n",
       "2                          0  \n",
       "5                          0  \n",
       "6                          0  \n",
       "7                          1  \n",
       "...                      ...  \n",
       "1982061                    1  \n",
       "1982063                    0  \n",
       "1982064                    0  \n",
       "1982065                    0  \n",
       "1982066                    1  \n",
       "\n",
       "[1681979 rows x 10 columns]"
      ]
     },
     "execution_count": 34,
     "metadata": {},
     "output_type": "execute_result"
    }
   ],
   "source": [
    "dados"
   ]
  },
  {
   "cell_type": "markdown",
   "id": "27475670-012d-48fd-bdb9-65eb158c9b58",
   "metadata": {},
   "source": [
    "# Normalização ou padronização de dados"
   ]
  },
  {
   "cell_type": "code",
   "execution_count": 35,
   "id": "c68ea659-5fa4-4541-ac8d-fc5e629384fa",
   "metadata": {},
   "outputs": [
    {
     "name": "stdout",
     "output_type": "stream",
     "text": [
      "count    1.681979e+06\n",
      "mean     4.839524e-17\n",
      "std      1.000000e+00\n",
      "min     -4.715794e-01\n",
      "25%     -4.715794e-01\n",
      "50%     -4.715794e-01\n",
      "75%     -4.715794e-01\n",
      "max      2.120534e+00\n",
      "Name: people_got_injuried, dtype: float64\n"
     ]
    }
   ],
   "source": [
    "from sklearn.preprocessing import StandardScaler\n",
    "scaler = StandardScaler()\n",
    "coluna_selecionada = dados['people_got_injuried']\n",
    "scaler.fit(coluna_selecionada.values.reshape(-1, 1))\n",
    "dados['people_got_injuried'] = scaler.transform(coluna_selecionada.values.reshape(-1, 1))\n",
    "print(dados['people_got_injuried'].describe())"
   ]
  },
  {
   "cell_type": "markdown",
   "id": "b8690ca9-c3a0-4391-9dbb-b2527834e087",
   "metadata": {},
   "source": [
    "# Encoding de Colunas"
   ]
  },
  {
   "cell_type": "markdown",
   "id": "e0958957-7d3d-45a9-9a57-3a4444a8eee5",
   "metadata": {},
   "source": [
    "### Verificando se foram copiados os dados"
   ]
  },
  {
   "cell_type": "code",
   "execution_count": 36,
   "id": "a286908c-4dda-490a-9ebb-73d5e9cbd570",
   "metadata": {},
   "outputs": [
    {
     "name": "stdout",
     "output_type": "stream",
     "text": [
      "borough                          0\n",
      "zip_code                         0\n",
      "on_street_name                   0\n",
      "cross_street_name                0\n",
      "off_street_name                  0\n",
      "contributing_factor_vehicle_1    0\n",
      "contributing_factor_vehicle_2    0\n",
      "vehicle_type_code_1              0\n",
      "vehicle_type_code_2              0\n",
      "people_got_injuried              0\n",
      "dtype: int64\n"
     ]
    }
   ],
   "source": [
    "df_encoded = dados.copy()\n",
    "print(df_encoded.isna().sum())"
   ]
  },
  {
   "cell_type": "markdown",
   "id": "c41cee77-918d-4fa9-bf79-ee392046c470",
   "metadata": {},
   "source": [
    "### Realizando o mapeamento das colunas borough, vehicle_type_code_1 e vehicle_type_code_2"
   ]
  },
  {
   "cell_type": "code",
   "execution_count": 37,
   "id": "d0262b05-106a-46db-9a58-3b3afb6fa7f6",
   "metadata": {},
   "outputs": [
    {
     "name": "stdout",
     "output_type": "stream",
     "text": [
      "   borough zip_code                    on_street_name  \\\n",
      "0        0  11207.0             WHITESTONE EXPRESSWAY   \n",
      "2        0  11207.0                THROGS NECK BRIDGE   \n",
      "5        0  11207.0      MAJOR DEEGAN EXPRESSWAY RAMP   \n",
      "6        0  11207.0        BROOKLYN QUEENS EXPRESSWAY   \n",
      "7        3  10475.0  BROADWAY                           \n",
      "\n",
      "                  cross_street_name                           off_street_name  \\\n",
      "0                         20 AVENUE  772       EDGEWATER ROAD                   \n",
      "2  3 AVENUE                          772       EDGEWATER ROAD                   \n",
      "5  3 AVENUE                          772       EDGEWATER ROAD                   \n",
      "6  3 AVENUE                          772       EDGEWATER ROAD                   \n",
      "7  3 AVENUE                                       344       BAYCHESTER AVENUE   \n",
      "\n",
      "  contributing_factor_vehicle_1 contributing_factor_vehicle_2  \\\n",
      "0  Aggressive Driving/Road Rage                   Unspecified   \n",
      "2         Following Too Closely                   Unspecified   \n",
      "5                   Unspecified                   Unspecified   \n",
      "6           Passing Too Closely                   Unspecified   \n",
      "7                   Unspecified                   Unspecified   \n",
      "\n",
      "   vehicle_type_code_1  vehicle_type_code_2  people_got_injuried  \n",
      "0                  NaN                  NaN             2.120534  \n",
      "2                  NaN                  NaN            -0.471579  \n",
      "5                  NaN                  NaN            -0.471579  \n",
      "6                  NaN                  NaN            -0.471579  \n",
      "7                  NaN                  NaN             2.120534  \n"
     ]
    }
   ],
   "source": [
    "\n",
    "mapping = {'BROOKLYN': 0, 'QUEENS': 1, 'MANHATTAN': 2, 'BRONX': 3, 'STATEN ISLAND': 4}\n",
    "df_encoded['borough'] = df_encoded['borough'].map(mapping)\n",
    "mapping = {'SEDAN': 0, 'PASSENGER VEHICLE': 1, 'Station Wagon/Sport Utility Vehicle': 2, 'SPORT UTILITY / STATION WAGON': 3, 'TAXI': 4}\n",
    "df_encoded['vehicle_type_code_1'] = df_encoded['vehicle_type_code_1'].map(mapping)\n",
    "df_encoded['vehicle_type_code_2'] = df_encoded['vehicle_type_code_2'].map(mapping)\n",
    "print(df_encoded.head())"
   ]
  },
  {
   "cell_type": "markdown",
   "id": "d8b758ab-46b8-40c8-9424-f1b69192f8f2",
   "metadata": {},
   "source": [
    "# Normalização ou padronização de dados\n"
   ]
  },
  {
   "cell_type": "code",
   "execution_count": 23,
   "id": "44f90d2f-becf-41b5-a347-1777fe368aee",
   "metadata": {},
   "outputs": [
    {
     "name": "stdout",
     "output_type": "stream",
     "text": [
      "    borough zip_code                    on_street_name  \\\n",
      "0  BROOKLYN  11207.0             WHITESTONE EXPRESSWAY   \n",
      "2  BROOKLYN  11207.0                THROGS NECK BRIDGE   \n",
      "5  BROOKLYN  11207.0      MAJOR DEEGAN EXPRESSWAY RAMP   \n",
      "6  BROOKLYN  11207.0        BROOKLYN QUEENS EXPRESSWAY   \n",
      "7     BRONX  10475.0  BROADWAY                           \n",
      "\n",
      "                  cross_street_name                           off_street_name  \\\n",
      "0                         20 AVENUE  772       EDGEWATER ROAD                   \n",
      "2  3 AVENUE                          772       EDGEWATER ROAD                   \n",
      "5  3 AVENUE                          772       EDGEWATER ROAD                   \n",
      "6  3 AVENUE                          772       EDGEWATER ROAD                   \n",
      "7  3 AVENUE                                       344       BAYCHESTER AVENUE   \n",
      "\n",
      "  contributing_factor_vehicle_1 contributing_factor_vehicle_2  \\\n",
      "0  Aggressive Driving/Road Rage                   Unspecified   \n",
      "2         Following Too Closely                   Unspecified   \n",
      "5                   Unspecified                   Unspecified   \n",
      "6           Passing Too Closely                   Unspecified   \n",
      "7                   Unspecified                   Unspecified   \n",
      "\n",
      "  vehicle_type_code_1   vehicle_type_code_2  people_got_injuried  \n",
      "0               Sedan                 Sedan             2.120534  \n",
      "2               Sedan         Pick-up Truck            -0.471579  \n",
      "5                Dump                 Sedan            -0.471579  \n",
      "6               Sedan  Tractor Truck Diesel            -0.471579  \n",
      "7               Sedan                 Sedan             2.120534  \n"
     ]
    }
   ],
   "source": [
    "from sklearn.preprocessing import StandardScaler\n",
    "cols_to_normalize = ['people_got_injuried']\n",
    "scaler = StandardScaler()\n",
    "dados[cols_to_normalize] = scaler.fit_transform(dados[cols_to_normalize])\n",
    "print(dados.head())"
   ]
  },
  {
   "cell_type": "markdown",
   "id": "d10b42fc-cfc4-4bc0-8f09-676b9d023534",
   "metadata": {},
   "source": [
    "# Redução de dimensionalidade"
   ]
  },
  {
   "cell_type": "code",
   "execution_count": 63,
   "id": "0288be83-d588-4824-ade4-83f0f8f57de7",
   "metadata": {},
   "outputs": [
    {
     "name": "stdout",
     "output_type": "stream",
     "text": [
      "       PCA1      PCA2\n",
      "0  0.059227  1.379468\n",
      "2 -0.415405  0.929904\n",
      "5 -1.300765 -0.019774\n",
      "6 -0.204118 -0.665730\n",
      "7 -0.184951 -1.076259\n"
     ]
    }
   ],
   "source": [
    "from sklearn.preprocessing import StandardScaler\n",
    "from sklearn.decomposition import PCA\n",
    "\n",
    "dados['zip_code'] = pd.to_numeric(dados['zip_code'], errors='coerce')\n",
    "dados['zip_code'].fillna(dados['zip_code'].median(), inplace=True)\n",
    "\n",
    "dados['on_street_name'].fillna('UNKNOWN', inplace=True)\n",
    "dados['on_street_name'] = dados['on_street_name'].astype('category')\n",
    "dados['on_street_name'] = dados['on_street_name'].cat.codes\n",
    "\n",
    "dados['off_street_name'].fillna('UNKNOWN', inplace=True)\n",
    "dados['off_street_name'] = dados['off_street_name'].astype('category')\n",
    "dados['off_street_name'] = dados['off_street_name'].cat.codes\n",
    "\n",
    "dados['contributing_factor_vehicle_1'].fillna('UNKNOWN', inplace=True)\n",
    "dados['contributing_factor_vehicle_1'] = dados['contributing_factor_vehicle_1'].astype('category')\n",
    "dados['contributing_factor_vehicle_1'] = dados['contributing_factor_vehicle_1'].cat.codes\n",
    "\n",
    "dados['contributing_factor_vehicle_2'].fillna('UNKNOWN', inplace=True)\n",
    "dados['contributing_factor_vehicle_2'] = dados['contributing_factor_vehicle_2'].astype('category')\n",
    "dados['contributing_factor_vehicle_2'] = dados['contributing_factor_vehicle_2'].cat.codes\n",
    "\n",
    "num_cols =  ['zip_code', 'on_street_name', 'off_street_name', 'contributing_factor_vehicle_1', 'contributing_factor_vehicle_2']\n",
    "\n",
    "scaler = StandardScaler()\n",
    "dados[num_cols] = scaler.fit_transform(dados[num_cols])\n",
    "\n",
    "pca = PCA(n_components=2)\n",
    "df_pca = pca.fit_transform(dados[num_cols])\n",
    "\n",
    "dados['PCA1'] = df_pca[:, 0]\n",
    "dados['PCA2'] = df_pca[:, 1]\n",
    "\n",
    "print(dados[['PCA1', 'PCA2']].head())"
   ]
  },
  {
   "cell_type": "markdown",
   "id": "224487b2-7f46-4826-b9ab-0855d71856b4",
   "metadata": {},
   "source": [
    "# Detecção de outliers\n"
   ]
  },
  {
   "cell_type": "code",
   "execution_count": 51,
   "id": "46b3986d-298e-4e17-8d22-8e2c2250fdf3",
   "metadata": {},
   "outputs": [
    {
     "data": {
      "text/plain": [
       "<Axes: >"
      ]
     },
     "execution_count": 51,
     "metadata": {},
     "output_type": "execute_result"
    },
    {
     "data": {
      "image/png": "[encoded data removed]",
      "text/plain": [
       "<Figure size 640x480 with 1 Axes>"
      ]
     },
     "metadata": {},
     "output_type": "display_data"
    }
   ],
   "source": [
    "import seaborn as sns\n",
    "\n",
    "injury_col = dados['people_got_injuried']\n",
    "sns.boxplot(data=injury_col)"
   ]
  },
  {
   "cell_type": "code",
   "execution_count": 42,
   "id": "d0867888-e4ee-4d07-97cb-1bb75f6ef6d4",
   "metadata": {},
   "outputs": [
    {
     "name": "stdout",
     "output_type": "stream",
     "text": [
      "Index(['borough', 'zip_code', 'on_street_name', 'cross_street_name',\n",
      "       'off_street_name', 'contributing_factor_vehicle_1',\n",
      "       'contributing_factor_vehicle_2', 'vehicle_type_code_1',\n",
      "       'vehicle_type_code_2', 'people_got_injuried'],\n",
      "      dtype='object')\n"
     ]
    }
   ],
   "source": [
    "print(dados.columns)"
   ]
  },
  {
   "cell_type": "markdown",
   "id": "f4330527-6329-400d-97d4-969a30237765",
   "metadata": {},
   "source": [
    "# Separação da base de dados em treino e teste"
   ]
  },
  {
   "cell_type": "code",
   "execution_count": 66,
   "id": "dcaa6822-5484-4d1b-8396-3af2e9e830ad",
   "metadata": {},
   "outputs": [
    {
     "name": "stdout",
     "output_type": "stream",
     "text": [
      "Tamanho da base de treino: 1177385\n",
      "Tamanho da base de teste: 504594\n"
     ]
    }
   ],
   "source": [
    "\n",
    "from sklearn.model_selection import train_test_split\n",
    "\n",
    "X = dados.drop('people_got_injuried', axis=1)\n",
    "y = dados['people_got_injuried']\n",
    "\n",
    "X_train, X_test, y_train, y_test = train_test_split(X, y, test_size=0.3, random_state=42)\n",
    "\n",
    "print(f'Tamanho da base de treino: {len(X_train)}')\n",
    "print(f'Tamanho da base de teste: {len(X_test)}')"
   ]
  },
  {
   "cell_type": "markdown",
   "id": "ca6cb9a3-8d5b-4645-9184-f6177dddb521",
   "metadata": {},
   "source": [
    "# Balanceamento da base de treino"
   ]
  },
  {
   "cell_type": "code",
   "execution_count": 84,
   "id": "a3d50fc4-0acb-4585-9e38-25c698f3d3df",
   "metadata": {},
   "outputs": [
    {
     "name": "stdout",
     "output_type": "stream",
     "text": [
      "1    1375979\n",
      "0    1375979\n",
      "Name: Machucados, dtype: int64\n"
     ]
    }
   ],
   "source": [
    "import pandas as pd\n",
    "\n",
    "dados['Machucados'] = (dados['people_got_injuried'] > 0).astype(int)\n",
    "\n",
    "X = dados[['contributing_factor_vehicle_1']]\n",
    "y = dados['Machucados']\n",
    "\n",
    "from imblearn.over_sampling import RandomOverSampler\n",
    "\n",
    "oversampler = RandomOverSampler(random_state=42)\n",
    "X_resampled, y_resampled = oversampler.fit_resample(X, y)\n",
    "\n",
    "print(y_resampled.value_counts())"
   ]
  }
 ],
 "metadata": {
  "kernelspec": {
   "display_name": "Python 3 (ipykernel)",
   "language": "python",
   "name": "python3"
  },
  "language_info": {
   "codemirror_mode": {
    "name": "ipython",
    "version": 3
   },
   "file_extension": ".py",
   "mimetype": "text/x-python",
   "name": "python",
   "nbconvert_exporter": "python",
   "pygments_lexer": "ipython3",
   "version": "3.10.9"
  }
 },
 "nbformat": 4,
 "nbformat_minor": 5
}
